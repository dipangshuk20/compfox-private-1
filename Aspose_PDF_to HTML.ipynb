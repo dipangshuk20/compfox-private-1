{
 "cells": [
  {
   "cell_type": "code",
   "execution_count": 1,
   "id": "eb441c6e-b866-44f7-aec2-e2ac35f877fd",
   "metadata": {},
   "outputs": [
    {
     "name": "stdout",
     "output_type": "stream",
     "text": [
      "Collecting aspose-words\n",
      "  Downloading aspose_words-22.10.0-py3-none-manylinux1_x86_64.whl (67.5 MB)\n",
      "\u001b[2K     \u001b[90m━━━━━━━━━━━━━━━━━━━━━━━━━━━━━━━━━━━━━━━━\u001b[0m \u001b[32m67.5/67.5 MB\u001b[0m \u001b[31m8.3 MB/s\u001b[0m eta \u001b[36m0:00:00\u001b[0m:00:01\u001b[0m00:01\u001b[0m\n",
      "\u001b[?25hInstalling collected packages: aspose-words\n",
      "Successfully installed aspose-words-22.10.0\n"
     ]
    }
   ],
   "source": [
    "!pip install aspose-words"
   ]
  },
  {
   "cell_type": "code",
   "execution_count": 2,
   "id": "4326ef49-908f-4d34-9284-5bd2d02a9254",
   "metadata": {},
   "outputs": [],
   "source": [
    "import aspose.words as aw"
   ]
  },
  {
   "cell_type": "code",
   "execution_count": 8,
   "id": "ef96a155-8748-493d-aa5c-49bcab687f57",
   "metadata": {},
   "outputs": [],
   "source": [
    "# Load the PDF file\n",
    "doc = aw.Document(\"2022_01_06_Dolmajian  Mariam.pdf\")"
   ]
  },
  {
   "cell_type": "code",
   "execution_count": 11,
   "id": "d99c00fe-0233-48a1-a07b-4ecf6e503b7f",
   "metadata": {},
   "outputs": [],
   "source": [
    "# Save the document as HTML\n",
    "ht_doc = doc.save(\"Dolmajian.html\")"
   ]
  },
  {
   "cell_type": "code",
   "execution_count": 12,
   "id": "bd23a313-d9c2-42d7-9a67-bf3f776efa88",
   "metadata": {},
   "outputs": [
    {
     "data": {
      "text/plain": [
       "<aspose.words.saving.SaveOutputParameters object at 0x7fcb4e8d6130>"
      ]
     },
     "metadata": {},
     "output_type": "display_data"
    }
   ],
   "source": [
    "display(ht_doc)"
   ]
  },
  {
   "cell_type": "code",
   "execution_count": null,
   "id": "9453de67-1518-46a3-92ec-2a73756b26a6",
   "metadata": {},
   "outputs": [],
   "source": []
  }
 ],
 "metadata": {
  "environment": {
   "kernel": "python3",
   "name": "tf2-gpu.2-8.m95",
   "type": "gcloud",
   "uri": "gcr.io/deeplearning-platform-release/tf2-gpu.2-8:m95"
  },
  "kernelspec": {
   "display_name": "Python 3",
   "language": "python",
   "name": "python3"
  },
  "language_info": {
   "codemirror_mode": {
    "name": "ipython",
    "version": 3
   },
   "file_extension": ".py",
   "mimetype": "text/x-python",
   "name": "python",
   "nbconvert_exporter": "python",
   "pygments_lexer": "ipython3",
   "version": "3.7.12"
  }
 },
 "nbformat": 4,
 "nbformat_minor": 5
}
