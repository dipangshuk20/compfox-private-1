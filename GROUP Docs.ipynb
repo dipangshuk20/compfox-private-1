{
 "cells": [
  {
   "cell_type": "code",
   "execution_count": 1,
   "id": "98ef69a2-654d-4daf-b6fc-62c9b337cf99",
   "metadata": {},
   "outputs": [
    {
     "name": "stdout",
     "output_type": "stream",
     "text": [
      "Collecting groupdocs-conversion-cloud\n",
      "  Downloading groupdocs_conversion_cloud-22.10-py3-none-any.whl (370 kB)\n",
      "\u001b[2K     \u001b[90m━━━━━━━━━━━━━━━━━━━━━━━━━━━━━━━━━━━━━━━\u001b[0m \u001b[32m370.0/370.0 kB\u001b[0m \u001b[31m9.4 MB/s\u001b[0m eta \u001b[36m0:00:00\u001b[0m00:01\u001b[0m\n",
      "\u001b[?25hRequirement already satisfied: certifi in /opt/conda/lib/python3.7/site-packages (from groupdocs-conversion-cloud) (2022.6.15)\n",
      "Requirement already satisfied: python-dateutil in /opt/conda/lib/python3.7/site-packages (from groupdocs-conversion-cloud) (2.8.2)\n",
      "Requirement already satisfied: six>=1.10 in /opt/conda/lib/python3.7/site-packages (from groupdocs-conversion-cloud) (1.16.0)\n",
      "Requirement already satisfied: urllib3>=1.15 in /opt/conda/lib/python3.7/site-packages (from groupdocs-conversion-cloud) (1.26.11)\n",
      "Installing collected packages: groupdocs-conversion-cloud\n",
      "Successfully installed groupdocs-conversion-cloud-22.10\n"
     ]
    }
   ],
   "source": [
    "!pip install groupdocs-conversion-cloud"
   ]
  },
  {
   "cell_type": "code",
   "execution_count": 35,
   "id": "9ea57bf5-7e7c-412b-9a85-d41fe8022c7c",
   "metadata": {},
   "outputs": [],
   "source": [
    "\n",
    "# Import module\n",
    "import groupdocs_conversion_cloud\n",
    "\n",
    "# Get your app_sid and app_key at https://dashboard.groupdocs.cloud (free registration is required).\n",
    "app_sid = 'a07c4589-9d54-4cc0-92e8-9255cc7be29c'\n",
    "app_key = '96366b50660545a60a738d14a28b8d4e'\n",
    "\n",
    "# Create instance of the API\n",
    "convert_api = groupdocs_conversion_cloud.ConvertApi.from_keys(app_sid, app_key)\n",
    "file_api = groupdocs_conversion_cloud.FileApi.from_keys(app_sid, app_key)\n"
   ]
  },
  {
   "cell_type": "code",
   "execution_count": 36,
   "id": "b921399f-3646-49ec-b376-6df1334b6bdd",
   "metadata": {},
   "outputs": [
    {
     "name": "stdout",
     "output_type": "stream",
     "text": [
      "Exception when calling get_supported_conversion_types: AmazonS3 Storage exception: The request signature we calculated does not match the signature you provided. Check your key and signing method. Bucket 'groupdocs.cloud-filestorage-prod', FilePath '925383/cdd59305-8782-4d51-9a28-e6e641f45895/../2022_01_06_Cooper  Larry.pdf'\n"
     ]
    }
   ],
   "source": [
    "try:\n",
    "\n",
    "        #upload soruce file to storage\n",
    "        filename = '../2022_01_06_Cooper  Larry.pdf'\n",
    "        remote_name = '../2022_01_06_Cooper  Larry.pdf'\n",
    "        output_name= 'sample.txt'\n",
    "        strformat='txt'\n",
    "\n",
    "        request_upload = groupdocs_conversion_cloud.UploadFileRequest(remote_name,filename)\n",
    "        response_upload = file_api.upload_file(request_upload)\n",
    "        #Extract Text from PDF document\n",
    "        settings = groupdocs_conversion_cloud.ConvertSettings()\n",
    "        settings.file_path =remote_name\n",
    "        settings.format = strformat\n",
    "        settings.output_path = output_name\n",
    "                \n",
    "        request = groupdocs_conversion_cloud.ConvertDocumentRequest(settings)\n",
    "        response = convert_api.convert_document(request)\n",
    "\n",
    "        print(\"Document converted successfully: \" + str(response))\n",
    "except groupdocs_conversion_cloud.ApiException as e:\n",
    "        print(\"Exception when calling get_supported_conversion_types: {0}\".format(e.message))\n"
   ]
  },
  {
   "cell_type": "code",
   "execution_count": 17,
   "id": "3088e360-3219-448c-9d1d-c8bdb8810e5b",
   "metadata": {},
   "outputs": [
    {
     "name": "stdout",
     "output_type": "stream",
     "text": [
      "Collecting common-utils\n",
      "  Downloading common_utils-2.0.1.dev1-py2.py3-none-any.whl (8.9 kB)\n",
      "Installing collected packages: common-utils\n",
      "Successfully installed common-utils-2.0.1.dev1\n"
     ]
    }
   ],
   "source": [
    "#!pip install common-utils"
   ]
  },
  {
   "cell_type": "code",
   "execution_count": 19,
   "id": "f245f1f3-0d2f-4c35-9ca7-d65ed79dcf56",
   "metadata": {},
   "outputs": [
    {
     "name": "stdout",
     "output_type": "stream",
     "text": [
      "Collecting Common_Utilities\n",
      "  Downloading common-utilities-0.0.10.tar.gz (1.8 kB)\n",
      "  Preparing metadata (setup.py) ... \u001b[?25ldone\n",
      "\u001b[?25hBuilding wheels for collected packages: Common_Utilities\n",
      "  Building wheel for Common_Utilities (setup.py) ... \u001b[?25ldone\n",
      "\u001b[?25h  Created wheel for Common_Utilities: filename=common_utilities-0.0.10-py3-none-any.whl size=2644 sha256=09cbcd9ea10ce28ac8b183e862b401206b9f5d4f5d0c82e86e91ed4c8c8795ad\n",
      "  Stored in directory: /home/jupyter/.cache/pip/wheels/fe/90/0d/f3fe3563940f1bbb411551417ce7b2ad6794ebb85bb38f7d01\n",
      "Successfully built Common_Utilities\n",
      "Installing collected packages: Common_Utilities\n",
      "Successfully installed Common_Utilities-0.0.10\n"
     ]
    }
   ],
   "source": [
    "#!pip install Common_Utilities"
   ]
  },
  {
   "cell_type": "code",
   "execution_count": 23,
   "id": "2ca60eb7-edb3-4109-93b2-f46de345f48e",
   "metadata": {},
   "outputs": [],
   "source": [
    "#import groupdocs_conversion_cloud\n",
    "#from Common_Utilities.Utils import Common_Utilities"
   ]
  },
  {
   "cell_type": "code",
   "execution_count": 24,
   "id": "0b08e02e-1df5-44b0-8c02-ea8b87e814e8",
   "metadata": {},
   "outputs": [
    {
     "data": {
      "text/plain": [
       "'class Conversion_Python_Get_All_Supported_Formats:\\n    \\n    @classmethod\\n    def Run(self):\\n        # Create instance of the API\\n        api = Common_Utilities.Get_InfoApi_Instance()\\n        \\n        try:\\n            # Retrieve supported conversion types\\n            request = groupdocs_conversion_cloud.GetSupportedConversionTypesRequest()\\n            response = api.get_supported_conversion_types(request)\\n            \\n            # Print out supported conversion types\\n            print(\"Supported conversion types:\")\\n            for fileformat in response:\\n                print(\\'{0} to [{1}]\\'.format(fileformat.source_format, \\', \\'.join(fileformat.target_formats))) \\n        except groupdocs_conversion_cloud.ApiException as e:\\n            print(\"Exception when calling get_supported_conversion_types: {0}\".format(e.message))\\n'"
      ]
     },
     "execution_count": 24,
     "metadata": {},
     "output_type": "execute_result"
    }
   ],
   "source": [
    "'''class Conversion_Python_Get_All_Supported_Formats:\n",
    "    \n",
    "    @classmethod\n",
    "    def Run(self):\n",
    "        # Create instance of the API\n",
    "        api = Common_Utilities.Get_InfoApi_Instance()\n",
    "        \n",
    "        try:\n",
    "            # Retrieve supported conversion types\n",
    "            request = groupdocs_conversion_cloud.GetSupportedConversionTypesRequest()\n",
    "            response = api.get_supported_conversion_types(request)\n",
    "            \n",
    "            # Print out supported conversion types\n",
    "            print(\"Supported conversion types:\")\n",
    "            for fileformat in response:\n",
    "                print('{0} to [{1}]'.format(fileformat.source_format, ', '.join(fileformat.target_formats))) \n",
    "        except groupdocs_conversion_cloud.ApiException as e:\n",
    "            print(\"Exception when calling get_supported_conversion_types: {0}\".format(e.message))\n",
    "'''"
   ]
  },
  {
   "cell_type": "code",
   "execution_count": null,
   "id": "32c3d233-6b48-44b1-ad16-510076281caa",
   "metadata": {},
   "outputs": [],
   "source": []
  }
 ],
 "metadata": {
  "environment": {
   "kernel": "python3",
   "name": "tf2-gpu.2-8.m95",
   "type": "gcloud",
   "uri": "gcr.io/deeplearning-platform-release/tf2-gpu.2-8:m95"
  },
  "kernelspec": {
   "display_name": "Python 3",
   "language": "python",
   "name": "python3"
  },
  "language_info": {
   "codemirror_mode": {
    "name": "ipython",
    "version": 3
   },
   "file_extension": ".py",
   "mimetype": "text/x-python",
   "name": "python",
   "nbconvert_exporter": "python",
   "pygments_lexer": "ipython3",
   "version": "3.7.12"
  }
 },
 "nbformat": 4,
 "nbformat_minor": 5
}
