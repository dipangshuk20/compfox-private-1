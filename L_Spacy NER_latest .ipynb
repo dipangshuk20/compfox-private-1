{
 "cells": [
  {
   "cell_type": "code",
   "execution_count": 1,
   "id": "dbc076cd-c0e7-43cf-94c0-fdebc2c5664d",
   "metadata": {},
   "outputs": [
    {
     "name": "stdout",
     "output_type": "stream",
     "text": [
      "Requirement already satisfied: elasticsearch in /opt/conda/lib/python3.7/site-packages (8.4.1)\n",
      "Requirement already satisfied: elastic-transport<9,>=8 in /opt/conda/lib/python3.7/site-packages (from elasticsearch) (8.4.0)\n",
      "Requirement already satisfied: urllib3<2,>=1.26.2 in /opt/conda/lib/python3.7/site-packages (from elastic-transport<9,>=8->elasticsearch) (1.26.11)\n",
      "Requirement already satisfied: certifi in /opt/conda/lib/python3.7/site-packages (from elastic-transport<9,>=8->elasticsearch) (2022.6.15)\n"
     ]
    }
   ],
   "source": [
    "!pip install elasticsearch"
   ]
  },
  {
   "cell_type": "code",
   "execution_count": 2,
   "id": "75ee27c1-6a1c-4491-8280-5fbf72a9b9b3",
   "metadata": {},
   "outputs": [
    {
     "name": "stdout",
     "output_type": "stream",
     "text": [
      "Requirement already satisfied: spacy in /opt/conda/lib/python3.7/site-packages (3.4.1)\n",
      "Requirement already satisfied: typer<0.5.0,>=0.3.0 in /opt/conda/lib/python3.7/site-packages (from spacy) (0.4.2)\n",
      "Requirement already satisfied: wasabi<1.1.0,>=0.9.1 in /opt/conda/lib/python3.7/site-packages (from spacy) (0.10.1)\n",
      "Requirement already satisfied: cymem<2.1.0,>=2.0.2 in /opt/conda/lib/python3.7/site-packages (from spacy) (2.0.6)\n",
      "Requirement already satisfied: thinc<8.2.0,>=8.1.0 in /opt/conda/lib/python3.7/site-packages (from spacy) (8.1.1)\n",
      "Requirement already satisfied: catalogue<2.1.0,>=2.0.6 in /opt/conda/lib/python3.7/site-packages (from spacy) (2.0.8)\n",
      "Requirement already satisfied: setuptools in /opt/conda/lib/python3.7/site-packages (from spacy) (59.8.0)\n",
      "Requirement already satisfied: numpy>=1.15.0 in /opt/conda/lib/python3.7/site-packages (from spacy) (1.21.6)\n",
      "Requirement already satisfied: typing-extensions<4.2.0,>=3.7.4 in /opt/conda/lib/python3.7/site-packages (from spacy) (4.1.1)\n",
      "Requirement already satisfied: pydantic!=1.8,!=1.8.1,<1.10.0,>=1.7.4 in /opt/conda/lib/python3.7/site-packages (from spacy) (1.9.1)\n",
      "Requirement already satisfied: spacy-loggers<2.0.0,>=1.0.0 in /opt/conda/lib/python3.7/site-packages (from spacy) (1.0.3)\n",
      "Requirement already satisfied: jinja2 in /opt/conda/lib/python3.7/site-packages (from spacy) (3.1.2)\n",
      "Requirement already satisfied: tqdm<5.0.0,>=4.38.0 in /opt/conda/lib/python3.7/site-packages (from spacy) (4.64.0)\n",
      "Requirement already satisfied: langcodes<4.0.0,>=3.2.0 in /opt/conda/lib/python3.7/site-packages (from spacy) (3.3.0)\n",
      "Requirement already satisfied: requests<3.0.0,>=2.13.0 in /opt/conda/lib/python3.7/site-packages (from spacy) (2.28.1)\n",
      "Requirement already satisfied: preshed<3.1.0,>=3.0.2 in /opt/conda/lib/python3.7/site-packages (from spacy) (3.0.7)\n",
      "Requirement already satisfied: pathy>=0.3.5 in /opt/conda/lib/python3.7/site-packages (from spacy) (0.6.2)\n",
      "Requirement already satisfied: packaging>=20.0 in /opt/conda/lib/python3.7/site-packages (from spacy) (21.3)\n",
      "Requirement already satisfied: murmurhash<1.1.0,>=0.28.0 in /opt/conda/lib/python3.7/site-packages (from spacy) (1.0.8)\n",
      "Requirement already satisfied: spacy-legacy<3.1.0,>=3.0.9 in /opt/conda/lib/python3.7/site-packages (from spacy) (3.0.10)\n",
      "Requirement already satisfied: srsly<3.0.0,>=2.4.3 in /opt/conda/lib/python3.7/site-packages (from spacy) (2.4.4)\n",
      "Requirement already satisfied: zipp>=0.5 in /opt/conda/lib/python3.7/site-packages (from catalogue<2.1.0,>=2.0.6->spacy) (3.8.1)\n",
      "Requirement already satisfied: pyparsing!=3.0.5,>=2.0.2 in /opt/conda/lib/python3.7/site-packages (from packaging>=20.0->spacy) (3.0.9)\n",
      "Requirement already satisfied: smart-open<6.0.0,>=5.2.1 in /opt/conda/lib/python3.7/site-packages (from pathy>=0.3.5->spacy) (5.2.1)\n",
      "Requirement already satisfied: idna<4,>=2.5 in /opt/conda/lib/python3.7/site-packages (from requests<3.0.0,>=2.13.0->spacy) (3.3)\n",
      "Requirement already satisfied: urllib3<1.27,>=1.21.1 in /opt/conda/lib/python3.7/site-packages (from requests<3.0.0,>=2.13.0->spacy) (1.26.11)\n",
      "Requirement already satisfied: charset-normalizer<3,>=2 in /opt/conda/lib/python3.7/site-packages (from requests<3.0.0,>=2.13.0->spacy) (2.1.0)\n",
      "Requirement already satisfied: certifi>=2017.4.17 in /opt/conda/lib/python3.7/site-packages (from requests<3.0.0,>=2.13.0->spacy) (2022.6.15)\n",
      "Requirement already satisfied: confection<1.0.0,>=0.0.1 in /opt/conda/lib/python3.7/site-packages (from thinc<8.2.0,>=8.1.0->spacy) (0.0.1)\n",
      "Requirement already satisfied: blis<0.10.0,>=0.7.8 in /opt/conda/lib/python3.7/site-packages (from thinc<8.2.0,>=8.1.0->spacy) (0.9.1)\n",
      "Requirement already satisfied: click<9.0.0,>=7.1.1 in /opt/conda/lib/python3.7/site-packages (from typer<0.5.0,>=0.3.0->spacy) (8.1.3)\n",
      "Requirement already satisfied: MarkupSafe>=2.0 in /opt/conda/lib/python3.7/site-packages (from jinja2->spacy) (2.1.1)\n",
      "Requirement already satisfied: importlib-metadata in /opt/conda/lib/python3.7/site-packages (from click<9.0.0,>=7.1.1->typer<0.5.0,>=0.3.0->spacy) (4.11.4)\n"
     ]
    }
   ],
   "source": [
    "!pip install spacy"
   ]
  },
  {
   "cell_type": "code",
   "execution_count": 3,
   "id": "147f2a4a-1d63-4965-bf3b-27050550d53d",
   "metadata": {},
   "outputs": [
    {
     "name": "stdout",
     "output_type": "stream",
     "text": [
      "\u001b[38;5;3m⚠ As of spaCy v3.0, shortcuts like 'en' are deprecated. Please use the\n",
      "full pipeline package name 'en_core_web_sm' instead.\u001b[0m\n",
      "Collecting en-core-web-sm==3.4.0\n",
      "  Downloading https://github.com/explosion/spacy-models/releases/download/en_core_web_sm-3.4.0/en_core_web_sm-3.4.0-py3-none-any.whl (12.8 MB)\n",
      "\u001b[2K     \u001b[90m━━━━━━━━━━━━━━━━━━━━━━━━━━━━━━━━━━━━━━━━\u001b[0m \u001b[32m12.8/12.8 MB\u001b[0m \u001b[31m49.2 MB/s\u001b[0m eta \u001b[36m0:00:00\u001b[0m00:01\u001b[0m00:01\u001b[0m\n",
      "\u001b[?25hRequirement already satisfied: spacy<3.5.0,>=3.4.0 in /opt/conda/lib/python3.7/site-packages (from en-core-web-sm==3.4.0) (3.4.1)\n",
      "Requirement already satisfied: murmurhash<1.1.0,>=0.28.0 in /opt/conda/lib/python3.7/site-packages (from spacy<3.5.0,>=3.4.0->en-core-web-sm==3.4.0) (1.0.8)\n",
      "Requirement already satisfied: wasabi<1.1.0,>=0.9.1 in /opt/conda/lib/python3.7/site-packages (from spacy<3.5.0,>=3.4.0->en-core-web-sm==3.4.0) (0.10.1)\n",
      "Requirement already satisfied: srsly<3.0.0,>=2.4.3 in /opt/conda/lib/python3.7/site-packages (from spacy<3.5.0,>=3.4.0->en-core-web-sm==3.4.0) (2.4.4)\n",
      "Requirement already satisfied: langcodes<4.0.0,>=3.2.0 in /opt/conda/lib/python3.7/site-packages (from spacy<3.5.0,>=3.4.0->en-core-web-sm==3.4.0) (3.3.0)\n",
      "Requirement already satisfied: numpy>=1.15.0 in /opt/conda/lib/python3.7/site-packages (from spacy<3.5.0,>=3.4.0->en-core-web-sm==3.4.0) (1.21.6)\n",
      "Requirement already satisfied: setuptools in /opt/conda/lib/python3.7/site-packages (from spacy<3.5.0,>=3.4.0->en-core-web-sm==3.4.0) (59.8.0)\n",
      "Requirement already satisfied: spacy-legacy<3.1.0,>=3.0.9 in /opt/conda/lib/python3.7/site-packages (from spacy<3.5.0,>=3.4.0->en-core-web-sm==3.4.0) (3.0.10)\n",
      "Requirement already satisfied: typer<0.5.0,>=0.3.0 in /opt/conda/lib/python3.7/site-packages (from spacy<3.5.0,>=3.4.0->en-core-web-sm==3.4.0) (0.4.2)\n",
      "Requirement already satisfied: jinja2 in /opt/conda/lib/python3.7/site-packages (from spacy<3.5.0,>=3.4.0->en-core-web-sm==3.4.0) (3.1.2)\n",
      "Requirement already satisfied: packaging>=20.0 in /opt/conda/lib/python3.7/site-packages (from spacy<3.5.0,>=3.4.0->en-core-web-sm==3.4.0) (21.3)\n",
      "Requirement already satisfied: requests<3.0.0,>=2.13.0 in /opt/conda/lib/python3.7/site-packages (from spacy<3.5.0,>=3.4.0->en-core-web-sm==3.4.0) (2.28.1)\n",
      "Requirement already satisfied: spacy-loggers<2.0.0,>=1.0.0 in /opt/conda/lib/python3.7/site-packages (from spacy<3.5.0,>=3.4.0->en-core-web-sm==3.4.0) (1.0.3)\n",
      "Requirement already satisfied: thinc<8.2.0,>=8.1.0 in /opt/conda/lib/python3.7/site-packages (from spacy<3.5.0,>=3.4.0->en-core-web-sm==3.4.0) (8.1.1)\n",
      "Requirement already satisfied: cymem<2.1.0,>=2.0.2 in /opt/conda/lib/python3.7/site-packages (from spacy<3.5.0,>=3.4.0->en-core-web-sm==3.4.0) (2.0.6)\n",
      "Requirement already satisfied: pydantic!=1.8,!=1.8.1,<1.10.0,>=1.7.4 in /opt/conda/lib/python3.7/site-packages (from spacy<3.5.0,>=3.4.0->en-core-web-sm==3.4.0) (1.9.1)\n",
      "Requirement already satisfied: typing-extensions<4.2.0,>=3.7.4 in /opt/conda/lib/python3.7/site-packages (from spacy<3.5.0,>=3.4.0->en-core-web-sm==3.4.0) (4.1.1)\n",
      "Requirement already satisfied: catalogue<2.1.0,>=2.0.6 in /opt/conda/lib/python3.7/site-packages (from spacy<3.5.0,>=3.4.0->en-core-web-sm==3.4.0) (2.0.8)\n",
      "Requirement already satisfied: pathy>=0.3.5 in /opt/conda/lib/python3.7/site-packages (from spacy<3.5.0,>=3.4.0->en-core-web-sm==3.4.0) (0.6.2)\n",
      "Requirement already satisfied: preshed<3.1.0,>=3.0.2 in /opt/conda/lib/python3.7/site-packages (from spacy<3.5.0,>=3.4.0->en-core-web-sm==3.4.0) (3.0.7)\n",
      "Requirement already satisfied: tqdm<5.0.0,>=4.38.0 in /opt/conda/lib/python3.7/site-packages (from spacy<3.5.0,>=3.4.0->en-core-web-sm==3.4.0) (4.64.0)\n",
      "Requirement already satisfied: zipp>=0.5 in /opt/conda/lib/python3.7/site-packages (from catalogue<2.1.0,>=2.0.6->spacy<3.5.0,>=3.4.0->en-core-web-sm==3.4.0) (3.8.1)\n",
      "Requirement already satisfied: pyparsing!=3.0.5,>=2.0.2 in /opt/conda/lib/python3.7/site-packages (from packaging>=20.0->spacy<3.5.0,>=3.4.0->en-core-web-sm==3.4.0) (3.0.9)\n",
      "Requirement already satisfied: smart-open<6.0.0,>=5.2.1 in /opt/conda/lib/python3.7/site-packages (from pathy>=0.3.5->spacy<3.5.0,>=3.4.0->en-core-web-sm==3.4.0) (5.2.1)\n",
      "Requirement already satisfied: idna<4,>=2.5 in /opt/conda/lib/python3.7/site-packages (from requests<3.0.0,>=2.13.0->spacy<3.5.0,>=3.4.0->en-core-web-sm==3.4.0) (3.3)\n",
      "Requirement already satisfied: charset-normalizer<3,>=2 in /opt/conda/lib/python3.7/site-packages (from requests<3.0.0,>=2.13.0->spacy<3.5.0,>=3.4.0->en-core-web-sm==3.4.0) (2.1.0)\n",
      "Requirement already satisfied: certifi>=2017.4.17 in /opt/conda/lib/python3.7/site-packages (from requests<3.0.0,>=2.13.0->spacy<3.5.0,>=3.4.0->en-core-web-sm==3.4.0) (2022.6.15)\n",
      "Requirement already satisfied: urllib3<1.27,>=1.21.1 in /opt/conda/lib/python3.7/site-packages (from requests<3.0.0,>=2.13.0->spacy<3.5.0,>=3.4.0->en-core-web-sm==3.4.0) (1.26.11)\n",
      "Requirement already satisfied: confection<1.0.0,>=0.0.1 in /opt/conda/lib/python3.7/site-packages (from thinc<8.2.0,>=8.1.0->spacy<3.5.0,>=3.4.0->en-core-web-sm==3.4.0) (0.0.1)\n",
      "Requirement already satisfied: blis<0.10.0,>=0.7.8 in /opt/conda/lib/python3.7/site-packages (from thinc<8.2.0,>=8.1.0->spacy<3.5.0,>=3.4.0->en-core-web-sm==3.4.0) (0.9.1)\n",
      "Requirement already satisfied: click<9.0.0,>=7.1.1 in /opt/conda/lib/python3.7/site-packages (from typer<0.5.0,>=0.3.0->spacy<3.5.0,>=3.4.0->en-core-web-sm==3.4.0) (8.1.3)\n",
      "Requirement already satisfied: MarkupSafe>=2.0 in /opt/conda/lib/python3.7/site-packages (from jinja2->spacy<3.5.0,>=3.4.0->en-core-web-sm==3.4.0) (2.1.1)\n",
      "Requirement already satisfied: importlib-metadata in /opt/conda/lib/python3.7/site-packages (from click<9.0.0,>=7.1.1->typer<0.5.0,>=0.3.0->spacy<3.5.0,>=3.4.0->en-core-web-sm==3.4.0) (4.11.4)\n",
      "\u001b[38;5;2m✔ Download and installation successful\u001b[0m\n",
      "You can now load the package via spacy.load('en_core_web_sm')\n"
     ]
    }
   ],
   "source": [
    "!python -m spacy download en"
   ]
  },
  {
   "cell_type": "code",
   "execution_count": 4,
   "id": "034b31c9-1021-4fb4-a6d6-19a9a7b00535",
   "metadata": {},
   "outputs": [
    {
     "name": "stdout",
     "output_type": "stream",
     "text": [
      "Requirement already satisfied: spacy-transformers in /opt/conda/lib/python3.7/site-packages (1.1.8)\n",
      "Requirement already satisfied: spacy<4.0.0,>=3.4.0 in /opt/conda/lib/python3.7/site-packages (from spacy-transformers) (3.4.1)\n",
      "Requirement already satisfied: transformers<4.22.0,>=3.4.0 in /opt/conda/lib/python3.7/site-packages (from spacy-transformers) (4.21.3)\n",
      "Requirement already satisfied: spacy-alignments<1.0.0,>=0.7.2 in /opt/conda/lib/python3.7/site-packages (from spacy-transformers) (0.8.5)\n",
      "Requirement already satisfied: srsly<3.0.0,>=2.4.0 in /opt/conda/lib/python3.7/site-packages (from spacy-transformers) (2.4.4)\n",
      "Requirement already satisfied: torch>=1.6.0 in /opt/conda/lib/python3.7/site-packages (from spacy-transformers) (1.12.1)\n",
      "Requirement already satisfied: preshed<3.1.0,>=3.0.2 in /opt/conda/lib/python3.7/site-packages (from spacy<4.0.0,>=3.4.0->spacy-transformers) (3.0.7)\n",
      "Requirement already satisfied: thinc<8.2.0,>=8.1.0 in /opt/conda/lib/python3.7/site-packages (from spacy<4.0.0,>=3.4.0->spacy-transformers) (8.1.1)\n",
      "Requirement already satisfied: spacy-loggers<2.0.0,>=1.0.0 in /opt/conda/lib/python3.7/site-packages (from spacy<4.0.0,>=3.4.0->spacy-transformers) (1.0.3)\n",
      "Requirement already satisfied: tqdm<5.0.0,>=4.38.0 in /opt/conda/lib/python3.7/site-packages (from spacy<4.0.0,>=3.4.0->spacy-transformers) (4.64.0)\n",
      "Requirement already satisfied: numpy>=1.15.0 in /opt/conda/lib/python3.7/site-packages (from spacy<4.0.0,>=3.4.0->spacy-transformers) (1.21.6)\n",
      "Requirement already satisfied: jinja2 in /opt/conda/lib/python3.7/site-packages (from spacy<4.0.0,>=3.4.0->spacy-transformers) (3.1.2)\n",
      "Requirement already satisfied: typer<0.5.0,>=0.3.0 in /opt/conda/lib/python3.7/site-packages (from spacy<4.0.0,>=3.4.0->spacy-transformers) (0.4.2)\n",
      "Requirement already satisfied: cymem<2.1.0,>=2.0.2 in /opt/conda/lib/python3.7/site-packages (from spacy<4.0.0,>=3.4.0->spacy-transformers) (2.0.6)\n",
      "Requirement already satisfied: pydantic!=1.8,!=1.8.1,<1.10.0,>=1.7.4 in /opt/conda/lib/python3.7/site-packages (from spacy<4.0.0,>=3.4.0->spacy-transformers) (1.9.1)\n",
      "Requirement already satisfied: langcodes<4.0.0,>=3.2.0 in /opt/conda/lib/python3.7/site-packages (from spacy<4.0.0,>=3.4.0->spacy-transformers) (3.3.0)\n",
      "Requirement already satisfied: murmurhash<1.1.0,>=0.28.0 in /opt/conda/lib/python3.7/site-packages (from spacy<4.0.0,>=3.4.0->spacy-transformers) (1.0.8)\n",
      "Requirement already satisfied: pathy>=0.3.5 in /opt/conda/lib/python3.7/site-packages (from spacy<4.0.0,>=3.4.0->spacy-transformers) (0.6.2)\n",
      "Requirement already satisfied: setuptools in /opt/conda/lib/python3.7/site-packages (from spacy<4.0.0,>=3.4.0->spacy-transformers) (59.8.0)\n",
      "Requirement already satisfied: typing-extensions<4.2.0,>=3.7.4 in /opt/conda/lib/python3.7/site-packages (from spacy<4.0.0,>=3.4.0->spacy-transformers) (4.1.1)\n",
      "Requirement already satisfied: catalogue<2.1.0,>=2.0.6 in /opt/conda/lib/python3.7/site-packages (from spacy<4.0.0,>=3.4.0->spacy-transformers) (2.0.8)\n",
      "Requirement already satisfied: wasabi<1.1.0,>=0.9.1 in /opt/conda/lib/python3.7/site-packages (from spacy<4.0.0,>=3.4.0->spacy-transformers) (0.10.1)\n",
      "Requirement already satisfied: packaging>=20.0 in /opt/conda/lib/python3.7/site-packages (from spacy<4.0.0,>=3.4.0->spacy-transformers) (21.3)\n",
      "Requirement already satisfied: requests<3.0.0,>=2.13.0 in /opt/conda/lib/python3.7/site-packages (from spacy<4.0.0,>=3.4.0->spacy-transformers) (2.28.1)\n",
      "Requirement already satisfied: spacy-legacy<3.1.0,>=3.0.9 in /opt/conda/lib/python3.7/site-packages (from spacy<4.0.0,>=3.4.0->spacy-transformers) (3.0.10)\n",
      "Requirement already satisfied: tokenizers!=0.11.3,<0.13,>=0.11.1 in /opt/conda/lib/python3.7/site-packages (from transformers<4.22.0,>=3.4.0->spacy-transformers) (0.12.1)\n",
      "Requirement already satisfied: pyyaml>=5.1 in /opt/conda/lib/python3.7/site-packages (from transformers<4.22.0,>=3.4.0->spacy-transformers) (6.0)\n",
      "Requirement already satisfied: regex!=2019.12.17 in /opt/conda/lib/python3.7/site-packages (from transformers<4.22.0,>=3.4.0->spacy-transformers) (2022.8.17)\n",
      "Requirement already satisfied: importlib-metadata in /opt/conda/lib/python3.7/site-packages (from transformers<4.22.0,>=3.4.0->spacy-transformers) (4.11.4)\n",
      "Requirement already satisfied: filelock in /opt/conda/lib/python3.7/site-packages (from transformers<4.22.0,>=3.4.0->spacy-transformers) (3.7.1)\n",
      "Requirement already satisfied: huggingface-hub<1.0,>=0.1.0 in /opt/conda/lib/python3.7/site-packages (from transformers<4.22.0,>=3.4.0->spacy-transformers) (0.9.1)\n",
      "Requirement already satisfied: zipp>=0.5 in /opt/conda/lib/python3.7/site-packages (from catalogue<2.1.0,>=2.0.6->spacy<4.0.0,>=3.4.0->spacy-transformers) (3.8.1)\n",
      "Requirement already satisfied: pyparsing!=3.0.5,>=2.0.2 in /opt/conda/lib/python3.7/site-packages (from packaging>=20.0->spacy<4.0.0,>=3.4.0->spacy-transformers) (3.0.9)\n",
      "Requirement already satisfied: smart-open<6.0.0,>=5.2.1 in /opt/conda/lib/python3.7/site-packages (from pathy>=0.3.5->spacy<4.0.0,>=3.4.0->spacy-transformers) (5.2.1)\n",
      "Requirement already satisfied: certifi>=2017.4.17 in /opt/conda/lib/python3.7/site-packages (from requests<3.0.0,>=2.13.0->spacy<4.0.0,>=3.4.0->spacy-transformers) (2022.6.15)\n",
      "Requirement already satisfied: idna<4,>=2.5 in /opt/conda/lib/python3.7/site-packages (from requests<3.0.0,>=2.13.0->spacy<4.0.0,>=3.4.0->spacy-transformers) (3.3)\n",
      "Requirement already satisfied: charset-normalizer<3,>=2 in /opt/conda/lib/python3.7/site-packages (from requests<3.0.0,>=2.13.0->spacy<4.0.0,>=3.4.0->spacy-transformers) (2.1.0)\n",
      "Requirement already satisfied: urllib3<1.27,>=1.21.1 in /opt/conda/lib/python3.7/site-packages (from requests<3.0.0,>=2.13.0->spacy<4.0.0,>=3.4.0->spacy-transformers) (1.26.11)\n",
      "Requirement already satisfied: blis<0.10.0,>=0.7.8 in /opt/conda/lib/python3.7/site-packages (from thinc<8.2.0,>=8.1.0->spacy<4.0.0,>=3.4.0->spacy-transformers) (0.9.1)\n",
      "Requirement already satisfied: confection<1.0.0,>=0.0.1 in /opt/conda/lib/python3.7/site-packages (from thinc<8.2.0,>=8.1.0->spacy<4.0.0,>=3.4.0->spacy-transformers) (0.0.1)\n",
      "Requirement already satisfied: click<9.0.0,>=7.1.1 in /opt/conda/lib/python3.7/site-packages (from typer<0.5.0,>=0.3.0->spacy<4.0.0,>=3.4.0->spacy-transformers) (8.1.3)\n",
      "Requirement already satisfied: MarkupSafe>=2.0 in /opt/conda/lib/python3.7/site-packages (from jinja2->spacy<4.0.0,>=3.4.0->spacy-transformers) (2.1.1)\n"
     ]
    }
   ],
   "source": [
    "!pip install spacy-transformers"
   ]
  },
  {
   "cell_type": "code",
   "execution_count": 5,
   "id": "74a1b8e0-4db1-4fe6-8b35-09dfbed7a47d",
   "metadata": {
    "collapsed": true,
    "jupyter": {
     "outputs_hidden": true
    },
    "tags": []
   },
   "outputs": [
    {
     "name": "stdout",
     "output_type": "stream",
     "text": [
      "Collecting en-core-web-lg==3.4.0\n",
      "  Downloading https://github.com/explosion/spacy-models/releases/download/en_core_web_lg-3.4.0/en_core_web_lg-3.4.0-py3-none-any.whl (587.7 MB)\n",
      "\u001b[2K     \u001b[90m━━━━━━━━━━━━━━━━━━━━━━━━━━━━━━━━━━━━━━━\u001b[0m \u001b[32m587.7/587.7 MB\u001b[0m \u001b[31m1.1 MB/s\u001b[0m eta \u001b[36m0:00:00\u001b[0m00:01\u001b[0m00:01\u001b[0m\n",
      "\u001b[?25hRequirement already satisfied: spacy<3.5.0,>=3.4.0 in /opt/conda/lib/python3.7/site-packages (from en-core-web-lg==3.4.0) (3.4.1)\n",
      "Requirement already satisfied: tqdm<5.0.0,>=4.38.0 in /opt/conda/lib/python3.7/site-packages (from spacy<3.5.0,>=3.4.0->en-core-web-lg==3.4.0) (4.64.0)\n",
      "Requirement already satisfied: langcodes<4.0.0,>=3.2.0 in /opt/conda/lib/python3.7/site-packages (from spacy<3.5.0,>=3.4.0->en-core-web-lg==3.4.0) (3.3.0)\n",
      "Requirement already satisfied: typing-extensions<4.2.0,>=3.7.4 in /opt/conda/lib/python3.7/site-packages (from spacy<3.5.0,>=3.4.0->en-core-web-lg==3.4.0) (4.1.1)\n",
      "Requirement already satisfied: typer<0.5.0,>=0.3.0 in /opt/conda/lib/python3.7/site-packages (from spacy<3.5.0,>=3.4.0->en-core-web-lg==3.4.0) (0.4.2)\n",
      "Requirement already satisfied: spacy-loggers<2.0.0,>=1.0.0 in /opt/conda/lib/python3.7/site-packages (from spacy<3.5.0,>=3.4.0->en-core-web-lg==3.4.0) (1.0.3)\n",
      "Requirement already satisfied: cymem<2.1.0,>=2.0.2 in /opt/conda/lib/python3.7/site-packages (from spacy<3.5.0,>=3.4.0->en-core-web-lg==3.4.0) (2.0.6)\n",
      "Requirement already satisfied: catalogue<2.1.0,>=2.0.6 in /opt/conda/lib/python3.7/site-packages (from spacy<3.5.0,>=3.4.0->en-core-web-lg==3.4.0) (2.0.8)\n",
      "Requirement already satisfied: requests<3.0.0,>=2.13.0 in /opt/conda/lib/python3.7/site-packages (from spacy<3.5.0,>=3.4.0->en-core-web-lg==3.4.0) (2.28.1)\n",
      "Requirement already satisfied: murmurhash<1.1.0,>=0.28.0 in /opt/conda/lib/python3.7/site-packages (from spacy<3.5.0,>=3.4.0->en-core-web-lg==3.4.0) (1.0.8)\n",
      "Requirement already satisfied: thinc<8.2.0,>=8.1.0 in /opt/conda/lib/python3.7/site-packages (from spacy<3.5.0,>=3.4.0->en-core-web-lg==3.4.0) (8.1.1)\n",
      "Requirement already satisfied: spacy-legacy<3.1.0,>=3.0.9 in /opt/conda/lib/python3.7/site-packages (from spacy<3.5.0,>=3.4.0->en-core-web-lg==3.4.0) (3.0.10)\n",
      "Requirement already satisfied: jinja2 in /opt/conda/lib/python3.7/site-packages (from spacy<3.5.0,>=3.4.0->en-core-web-lg==3.4.0) (3.1.2)\n",
      "Requirement already satisfied: wasabi<1.1.0,>=0.9.1 in /opt/conda/lib/python3.7/site-packages (from spacy<3.5.0,>=3.4.0->en-core-web-lg==3.4.0) (0.10.1)\n",
      "Requirement already satisfied: setuptools in /opt/conda/lib/python3.7/site-packages (from spacy<3.5.0,>=3.4.0->en-core-web-lg==3.4.0) (59.8.0)\n",
      "Requirement already satisfied: preshed<3.1.0,>=3.0.2 in /opt/conda/lib/python3.7/site-packages (from spacy<3.5.0,>=3.4.0->en-core-web-lg==3.4.0) (3.0.7)\n",
      "Requirement already satisfied: srsly<3.0.0,>=2.4.3 in /opt/conda/lib/python3.7/site-packages (from spacy<3.5.0,>=3.4.0->en-core-web-lg==3.4.0) (2.4.4)\n",
      "Requirement already satisfied: packaging>=20.0 in /opt/conda/lib/python3.7/site-packages (from spacy<3.5.0,>=3.4.0->en-core-web-lg==3.4.0) (21.3)\n",
      "Requirement already satisfied: pathy>=0.3.5 in /opt/conda/lib/python3.7/site-packages (from spacy<3.5.0,>=3.4.0->en-core-web-lg==3.4.0) (0.6.2)\n",
      "Requirement already satisfied: pydantic!=1.8,!=1.8.1,<1.10.0,>=1.7.4 in /opt/conda/lib/python3.7/site-packages (from spacy<3.5.0,>=3.4.0->en-core-web-lg==3.4.0) (1.9.1)\n",
      "Requirement already satisfied: numpy>=1.15.0 in /opt/conda/lib/python3.7/site-packages (from spacy<3.5.0,>=3.4.0->en-core-web-lg==3.4.0) (1.21.6)\n",
      "Requirement already satisfied: zipp>=0.5 in /opt/conda/lib/python3.7/site-packages (from catalogue<2.1.0,>=2.0.6->spacy<3.5.0,>=3.4.0->en-core-web-lg==3.4.0) (3.8.1)\n",
      "Requirement already satisfied: pyparsing!=3.0.5,>=2.0.2 in /opt/conda/lib/python3.7/site-packages (from packaging>=20.0->spacy<3.5.0,>=3.4.0->en-core-web-lg==3.4.0) (3.0.9)\n",
      "Requirement already satisfied: smart-open<6.0.0,>=5.2.1 in /opt/conda/lib/python3.7/site-packages (from pathy>=0.3.5->spacy<3.5.0,>=3.4.0->en-core-web-lg==3.4.0) (5.2.1)\n",
      "Requirement already satisfied: urllib3<1.27,>=1.21.1 in /opt/conda/lib/python3.7/site-packages (from requests<3.0.0,>=2.13.0->spacy<3.5.0,>=3.4.0->en-core-web-lg==3.4.0) (1.26.11)\n",
      "Requirement already satisfied: idna<4,>=2.5 in /opt/conda/lib/python3.7/site-packages (from requests<3.0.0,>=2.13.0->spacy<3.5.0,>=3.4.0->en-core-web-lg==3.4.0) (3.3)\n",
      "Requirement already satisfied: certifi>=2017.4.17 in /opt/conda/lib/python3.7/site-packages (from requests<3.0.0,>=2.13.0->spacy<3.5.0,>=3.4.0->en-core-web-lg==3.4.0) (2022.6.15)\n",
      "Requirement already satisfied: charset-normalizer<3,>=2 in /opt/conda/lib/python3.7/site-packages (from requests<3.0.0,>=2.13.0->spacy<3.5.0,>=3.4.0->en-core-web-lg==3.4.0) (2.1.0)\n",
      "Requirement already satisfied: confection<1.0.0,>=0.0.1 in /opt/conda/lib/python3.7/site-packages (from thinc<8.2.0,>=8.1.0->spacy<3.5.0,>=3.4.0->en-core-web-lg==3.4.0) (0.0.1)\n",
      "Requirement already satisfied: blis<0.10.0,>=0.7.8 in /opt/conda/lib/python3.7/site-packages (from thinc<8.2.0,>=8.1.0->spacy<3.5.0,>=3.4.0->en-core-web-lg==3.4.0) (0.9.1)\n",
      "Requirement already satisfied: click<9.0.0,>=7.1.1 in /opt/conda/lib/python3.7/site-packages (from typer<0.5.0,>=0.3.0->spacy<3.5.0,>=3.4.0->en-core-web-lg==3.4.0) (8.1.3)\n",
      "Requirement already satisfied: MarkupSafe>=2.0 in /opt/conda/lib/python3.7/site-packages (from jinja2->spacy<3.5.0,>=3.4.0->en-core-web-lg==3.4.0) (2.1.1)\n",
      "Requirement already satisfied: importlib-metadata in /opt/conda/lib/python3.7/site-packages (from click<9.0.0,>=7.1.1->typer<0.5.0,>=0.3.0->spacy<3.5.0,>=3.4.0->en-core-web-lg==3.4.0) (4.11.4)\n",
      "\u001b[38;5;2m✔ Download and installation successful\u001b[0m\n",
      "You can now load the package via spacy.load('en_core_web_lg')\n"
     ]
    }
   ],
   "source": [
    "# !python -m spacy download en_core_web_sm\n",
    "!python -m spacy download en_core_web_lg"
   ]
  },
  {
   "cell_type": "code",
   "execution_count": 53,
   "id": "ed895201-5371-4b9e-ae0c-fbb0c2704089",
   "metadata": {},
   "outputs": [],
   "source": [
    "import spacy\n",
    "from spacy.matcher import Matcher "
   ]
  },
  {
   "cell_type": "code",
   "execution_count": 54,
   "id": "1148074b-b77d-4aa3-84f8-418d9ccecca1",
   "metadata": {},
   "outputs": [
    {
     "name": "stdout",
     "output_type": "stream",
     "text": [
      "Requirement already satisfied: visualise-spacy-tree in /opt/conda/lib/python3.7/site-packages (0.0.6)\n",
      "Requirement already satisfied: pydot==1.4.1 in /opt/conda/lib/python3.7/site-packages (from visualise-spacy-tree) (1.4.1)\n",
      "Requirement already satisfied: pyparsing>=2.1.4 in /opt/conda/lib/python3.7/site-packages (from pydot==1.4.1->visualise-spacy-tree) (3.0.9)\n"
     ]
    }
   ],
   "source": [
    "!pip install visualise-spacy-tree"
   ]
  },
  {
   "cell_type": "code",
   "execution_count": 55,
   "id": "d33b07fd-8a54-41fb-a88a-daa5ca2f0301",
   "metadata": {},
   "outputs": [],
   "source": [
    "from spacy import displacy \n",
    "import visualise_spacy_tree\n",
    "from IPython.display import Image, display\n",
    "import glob\n",
    "import pandas as pd"
   ]
  },
  {
   "cell_type": "code",
   "execution_count": 101,
   "id": "bd834d5b-57db-45f4-9134-edd41517f765",
   "metadata": {},
   "outputs": [
    {
     "data": {
      "text/plain": [
       "<spacy.lang.en.English at 0x7f6ecfa133d0>"
      ]
     },
     "execution_count": 101,
     "metadata": {},
     "output_type": "execute_result"
    }
   ],
   "source": [
    "import spacy\n",
    "nlp = spacy.load(\"en_core_web_lg\",disable =['textcat'])\n",
    "nlp"
   ]
  },
  {
   "cell_type": "code",
   "execution_count": 102,
   "id": "c529f3e9-cd79-4e4e-8924-61b49d882e7d",
   "metadata": {},
   "outputs": [],
   "source": [
    "doc = nlp(\"IT IS ORDERED that the petition for removal filed by Permanente Medical Group in Yee-Sanchez v. Permanente Medical Group (Case No. OAK 271713), be, and it hereby is, DISMISSED.\")"
   ]
  },
  {
   "cell_type": "code",
   "execution_count": 103,
   "id": "241e37b3-3c35-4ac6-b7c4-bbb5c3caf59a",
   "metadata": {},
   "outputs": [
    {
     "data": {
      "text/html": [
       "<span class=\"tex2jax_ignore\"><div class=\"entities\" style=\"line-height: 2.5; direction: ltr\">IT IS ORDERED that the petition for removal filed by \n",
       "<mark class=\"entity\" style=\"background: #7aecec; padding: 0.45em 0.6em; margin: 0 0.25em; line-height: 1; border-radius: 0.35em;\">\n",
       "    Permanente Medical Group\n",
       "    <span style=\"font-size: 0.8em; font-weight: bold; line-height: 1; border-radius: 0.35em; vertical-align: middle; margin-left: 0.5rem\">ORG</span>\n",
       "</mark>\n",
       " in \n",
       "<mark class=\"entity\" style=\"background: #aa9cfc; padding: 0.45em 0.6em; margin: 0 0.25em; line-height: 1; border-radius: 0.35em;\">\n",
       "    Yee-Sanchez\n",
       "    <span style=\"font-size: 0.8em; font-weight: bold; line-height: 1; border-radius: 0.35em; vertical-align: middle; margin-left: 0.5rem\">PERSON</span>\n",
       "</mark>\n",
       " v. \n",
       "<mark class=\"entity\" style=\"background: #7aecec; padding: 0.45em 0.6em; margin: 0 0.25em; line-height: 1; border-radius: 0.35em;\">\n",
       "    Permanente Medical Group\n",
       "    <span style=\"font-size: 0.8em; font-weight: bold; line-height: 1; border-radius: 0.35em; vertical-align: middle; margin-left: 0.5rem\">ORG</span>\n",
       "</mark>\n",
       " (Case No. OAK 271713), be, and it hereby is, DISMISSED.</div></span>"
      ],
      "text/plain": [
       "<IPython.core.display.HTML object>"
      ]
     },
     "metadata": {},
     "output_type": "display_data"
    }
   ],
   "source": [
    "from spacy import displacy\n",
    "displacy.render(doc, style=\"ent\", jupyter=True)"
   ]
  },
  {
   "cell_type": "code",
   "execution_count": 89,
   "id": "72eaf4c8-26e8-4b58-97b1-62599eef5738",
   "metadata": {},
   "outputs": [],
   "source": [
    "import spacy"
   ]
  },
  {
   "cell_type": "code",
   "execution_count": 90,
   "id": "bfb865da-5dd5-4063-b9dc-2c28389ba32b",
   "metadata": {},
   "outputs": [],
   "source": [
    "nlp = spacy.blank(\"en\")"
   ]
  },
  {
   "cell_type": "code",
   "execution_count": 91,
   "id": "ab386707-4363-41b4-bb39-c055ff00ab5f",
   "metadata": {},
   "outputs": [],
   "source": [
    "ner = nlp.create_pipe(\"ner\")"
   ]
  },
  {
   "cell_type": "code",
   "execution_count": 92,
   "id": "9c8603c3-2181-4c79-a219-a28cf001d7e7",
   "metadata": {},
   "outputs": [
    {
     "data": {
      "text/plain": [
       "1"
      ]
     },
     "execution_count": 92,
     "metadata": {},
     "output_type": "execute_result"
    }
   ],
   "source": [
    "ner.add_label(\"Case_References\")"
   ]
  },
  {
   "cell_type": "code",
   "execution_count": 93,
   "id": "42703dcd-8119-4960-baec-0378933e0f01",
   "metadata": {},
   "outputs": [],
   "source": [
    "#nlp.add_pipe(ner, name = \"Case_References_NER\")"
   ]
  },
  {
   "cell_type": "code",
   "execution_count": 94,
   "id": "3d49a2f4-b3ce-4963-b804-d3177bd2bdd2",
   "metadata": {},
   "outputs": [],
   "source": [
    "import json"
   ]
  },
  {
   "cell_type": "code",
   "execution_count": 96,
   "id": "1f269a7b-1aad-432f-a015-a2e4eab8c5d3",
   "metadata": {},
   "outputs": [
    {
     "name": "stdout",
     "output_type": "stream",
     "text": [
      "[' ', '20)', '21', '22', '23', '24', '25)', '26', '27', 'WORKERS’ COMPENSATION APPEALS BOARD\\nSTATE OF CALIFORNIA', ' ', 'Case No. BAK 0138299', 'WILMA DIGGLE,\\nApplicant,\\nOPINION AND ORDER\\nvs. DENYING\\nPETITION FOR\\nSIERRA SANDS UNIFIED SCHOOL RECONSIDERATION', 'DISTRICT, Permissibly Self-Insured; and\\nSELF-INSURED SCHOOLS OF\\nCALIFORNIA (Adjusting Agent),', 'Defendant(s).', ' ', ' ', ' ', ' ', 'Wilma Diggle (applicant) seeks reconsideration of the “Joint Findings and Fact, Award\\n& Order” issued by the workers’ compensation administrative law judge (WCJ) on August 26,\\n2005.! In that decision, the WCJ found that, on October 4, 2000, applicant sustained an\\nindustrial injury to her spine — but not to her bilateral hands and wrists or to her right knee —\\nwhile employed as a custodian by Sierra Sands Unified School District (defendant). In relevant\\npart, it was further found that applicant’s injury caused 58% permanent disability, after\\napportionment, resulting in a permanent disability indemnity award totaling $56,142.50.', 'In her petition, applicant contends, in substance: (1) that, because a petition for writ of\\nreview has been filed with respect to the Appeals Board’s en banc decision in Nabors v.\\nPiedmont Lumber & Mill Co. (2005) 70 Cal.Comp.Cases 856 (“Nabors”), the Appeals Board\\n“has the authority and discretion to hear and reconsider its prior position in the Nabors case;”\\n(2) that the Supreme Court’s decision in Fuentes v. Worker’s Comp. Appeals Bd. (1976) 16\\nCal.3d 1 [41 Cal.Comp.Cases 42] (“Fuentes”) no longer defines the method of apportioning pre-', 'existing disability because Fuentes was based on an interpretation and application of former', '! Although applicant’s petition captions both Case Nos. BAK 0138298 and BAK 0138299, her petition only', 'raises contentions regarding the latter case. That is, in Case No. BAK 0138298, the WCJ found that she did not\\nsustain a cumulative injury to her spine, bilateral hands and wrists, or right knee from February 14, 1994 through\\nNovember 19, 2000. Applicant does not challenge this finding of no cumulative injury.', ' ', ' \\n\\x0c ', '20)', '21', '22', '23', '24', '25)', '26', '27', ' ', ' ', 'Labor Code section 4750,” which was repealed by Senate Bill 899 (SB 899);* and (3) that, under\\nnew section 4664, the proper way to apportion is to convert her present overall percentage of\\npermanent disability into its current monetary equivalent and then subtract the dollar value of her\\nprior permanent disability award.', 'We will deny reconsideration because the en banc decision in Nabors resolved the issue\\nraised by applicant. An en banc decision of the Appeals Board is binding precedent on all\\nAppeals Board panels and WCJs. (Cal. Code Regs., tit. 8, §10341.) As we shall explain, this\\nprinciple remains true where a petition for writ of review has been filed or even where a writ of\\nreview has been granted, either in the actual case in which the en banc decision issued or in a\\ndifferent case in which the en banc decision is directly implicated, unless and until either (1) the\\nappellate court issues an opinion that explicitly or implicitly overrules the en banc decision or\\n(2) the appellate court stays or suspends the operation of the en banc decision prior to the Court’s\\nissuance of an opinion.', 'I. BACKGROUND', 'The facts are not in dispute.', 'On May 18, 1993, applicant sustained an industrial injury to her low back while\\nemployed by defendant. On August 21, 1997, a stipulated Award issued which determined,\\namong other things, that this injury caused permanent disability of 12%. Applicant was awarded\\npermanent disability indemnity in the total sum of $3,994.45 (payable at the rate of $104.43 per\\nweek for 38.25 weeks).', 'In the present case, applicant sustained an industrial injury to her spine on October 4,\\n2000. At trial, the parties stipulated that applicant’s overall spinal permanent disability is now\\n70%, after adjustment for age and occupation, but before apportionment. The parties agreed that\\nthere must be “apportionment ... due to her prior Award of 12-percent disability.” The parties', 'also stipulated: (1) that if the apportionment is accomplished by subtracting the prior percentage', '2 :\\nUnless otherwise noted, all further statutory references are to the Labor Code.', 'Stats. 2004, ch. 34, §34.', 'DIGGLE, WILMA >', ' ', ' \\n\\x0c ', '20)', '21', '22', '23', '24', '25)', '26', '27', ' ', ' ', 'disability from the current overall percentage disability, then applicant is 58% disabled and\\nentitled to permanent partial disability indemnity of $56,142.51; (2) that if the apportionment is\\naccomplished by subtracting the prior number of weeks of permanent disability indemnity from\\nthe number of weeks of permanent disability indemnity due for permanent disability of 70%,\\nthen applicant is entitled to partial disability indemnity totaling $66,002.50; and (3) that if the\\napportionment is accomplished by crediting the dollar amount of the prior permanent award\\nagainst the dollar amount for permanent disability of 70%, then applicant is entitled to\\npermanent partial disability indemnity totaling $94,100.55. The parties then submitted the issue\\nof “the method of apportionment” for decision.', 'On August 26, 2005, the WCJ issued the decision in question here. He reached the 58%\\npermanent disability finding, after apportionment, by subtracting the percentage of permanent\\ndisability under her prior award (12%) from her current overall percentage of permanent\\ndisability (70%). In reaching this finding, the WCJ observed: (1) that the Appeals Board’s en\\nbanc decision in Nabors “resolved the question of the proper method of apportionment, selecting\\nthe subtraction method;” (2) that “en banc decisions of the Appeals Board are binding precedent\\non all ... individual [WCJs]; and (3) that, therefore, “[a]n individual [WCJ] has no discretion to\\napportion by a different method.”', 'Applicant then filed her petition for reconsideration, raising the contentions summarized\\nabove. No answer to the petition for reconsideration has been received. In his Report and\\nRecommendation on Petition for Reconsideration (Report), however, the WCJ recommends that', 'reconsideration be denied. In his Report, the WCJ states:', '“The constitutional mandate of California’s workers’ compensation\\nsystem is to ‘accomplish substantial justice in all cases\\nexpeditiously, inexpensively, and without incumbrance of any\\ncharacter’ Cal. Const. Art. XIV §4. The constitutional mandate for\\nexpeditious and unencumbered proceedings cannot be carried out if\\nthe rules of law remain ‘unsettled’ until the last possible appeal of a\\nprecedent-setting case has been decided by the last possible court.', 'DIGGLE, WILMA 3', ' ', ' \\n\\x0c ', '20)', '21', '22', '23', '24', '25)', '26', '27', ' ', ' ', '“Under the legal theory urged by Petitioner, the situation in the\\npresent case will remain unsettled until [the] First District Court of\\nAppeals reaches its decision on the Petition for Writ of Review in\\nNabors, supra, which will thereafter be subject to further potential\\nappeal[] to the California Supreme Court .... Under the legal theory\\nurged by Petitioner, this case and nearly every other post-SB 899\\nCalifornia workers’ compensation case raising bona fide issues of\\napportionment must sit unresolved until this process (potentially\\nspanning many years) is completed.', '“Such is not the law. The better view is that the en banc decisions of\\nthe Appeals Board are binding precedent on all panels and individual\\n[WCJs]. WCAB Rule 10341 (8 CCR § 10341); City of Long Beach\\nv. WCAB (Garcia) (2005) 126 Cal.App.4th 298, 313 fn 5, 70 CCC\\n109; Gee v. WCAB (2002) 96 Cal.App.4th 1418, 1425 fn 6; 67 CCC\\n236, 239 fn 6. When, but only when, the WCAB’s decision is\\noverturned by a higher tribunal does it cease to be a binding', 'precedent .... Thus, unless and until overturned, the WCAB’s\\ndecision in Nabors, supra, is a correct statement of the applicable\\ntule of law. ...', '“To do otherwise is to defeat the constitutional mandate of\\nexpeditious and unencumbered proceedings every time a party to a\\nprecedent-setting decision exercises its legal right to judicial\\nreview.”', 'IL. DISCUSSION', 'The en banc decision in Nabors expressly rejected applicant’s contention that the repeal\\nof former section 4750 invalidated the method of apportioning pre-existing disability set forth by\\nthe Supreme Court in Fuentes. That is, Nabors held that, under SB 899, where two or more\\ninjuries cause successive permanent disabilities that can be separated, the percentage of the\\npreviously awarded permanent disability is to be subtracted from the overall percentage of\\npermanent disability using the same method (“Formula A”) adopted by the Supreme Court in\\nFuentes.', 'Nabors is an en banc decision of the Appeals Board. En banc decisions are binding\\nprecedent on all Appeals Board panels and WCJs. (Cal. Code Regs., tit. 8, §10341; City of Long\\nBeach v. Workers’ Comp. Appeals Bd. (Garcia) (2005) 126 Cal.App.4th 298, 313, fn. 5 [70\\nCal.Comp.Cases 109]; Gee v. Workers’ Comp. Appeals Bd. (2002) 96 Cal.App.4th 1418, 1425,', 'DIGGLE, WILMA 4', ' ', ' \\n\\x0c ', '20)', '21', '22', '23', '24', '25)', '26', '27', ' ', ' ', 'fn. 6 [67 Cal.Comp.Cases 236]; see also Govt. Code, §11425.60(b).) We cannot and will not\\nrevisit Nabors here.', 'We recognize that, in Nabors, a petition for writ of review has been filed with the First\\nAppellate District, Division Two (Nabors v. Workers’ Comp. Appeals Bd., \\\\st Civ. No. A110792\\n(WCAB Case No. SRO 0122159)). That Court, however, has not yet acted on the petition.', 'Moreover, a writ of review has been granted by the Fifth Appellate District in a case that\\ndirectly presents a Nabors issue (E&J Gallo Winery v. Workers’ Comp. Appeals Bd. (Dykes), 5th\\nCiv. No. F047246 (WCAB Case No. STK 0188538)).’ Yet, that Court has not issued an opinion\\nor suspended the effect of Nabors.', 'Neither the filing of a petition for writ or review in Nabors nor the granting of a writ of\\nreview in Dykes, standing alone, changes the legal effect of the Nabors en banc decision, 1.e.,\\nNabors remains binding precedent on all Appeals Board panels and WCJs.', 'Labor Code section 5956 states:', '“The filing of a petition for, or the pendency of, a writ of review\\nshall not of itself stay or suspend the operation of any order, rule,\\ndecision, or award of the appeals board, but the court before which\\nthe petition is filed may stay or suspend, in whole or in part, the\\noperation of the order, decision, or award of the appeals board\\nsubject to review, upon the terms and conditions which it by order\\ndirects, except as provided in Article 3 of this chapter [relating to\\nundertakings].” (Emphasis added.)', 'Thus, section 5956 specifically provides that “[¢]he filing of a petition for ... a writ of\\nreview shall not of itself stay or suspend the operation of any ... decision of the appeals board.”\\n(Emphasis added.) Consequently, the mere fact that a petition for writ of review was filed in\\nNabors, standing alone, does not affect the “operation” of the Nabors en banc decision, 1.e.,', 'Nabors remains binding precedent on all Appeals Board panels and WCIs.°', '4', '5', 'For further information, see summary at 33 Cal. Workers’ Comp. Rptr. 213-214 (September 2005).', 'Section 5956’s reference to “any” decision of the Appeals Board establishes that not even an en banc\\ndecision is affected by the filing of an appellate petition. (See Delaney v. Superior Court (1990) 50 Cal.3d 785, 798\\n(‘the word ‘any’ means without limit and no matter what kind”).)', 'DIGGLE, WILMA 5', ' ', ' \\n\\x0c ', '20)', '21', '22', '23', '24', '25)', '26', '27', ' ', ' ', 'Section 5956 also specifically provides that “[t]he pendency of ... a writ of review shall\\nnot of itself stay or suspend the operation of any ... decision of the appeals board.” (Emphasis\\nadded.) Consequently, the mere fact that a writ of review was granted and is now “pend[ing]” in\\nDykes, standing alone, does not affect the “operation” of the Nabors en banc decision, 1.e.,\\nNabors remains binding precedent on all Appeals Board panels and WCJs.', 'We recognize that, in discussing the now-overruled en banc decision in Scheftner v. Rio\\nLinda School Dist. [see 69 Cal.Comp.Cases 1281 (2005)], one Court of Appeal stated in dictum:\\n“Schefiner was appealed and review was granted by the Third Appellate District ... , rendering it\\nuncitable as authority.” (Green v. Workers’ Comp. Appeals Bd., supra, 127 Cal.App.4th 1426,\\n1442, fn. 40 [70 Cal.Comp.Cases 294] (emphasis added).) Nevertheless, dictum is not binding.\\n(9 Witkin, Cal. Procedure (4th ed. 1997) Appeal, §945, pp. 986-987.) Moreover, although\\ndictum may be persuasive authority if made by a court after careful consideration or in the\\ncourse of an elaborate review of the authorities (id., §947, pp. 989-991), it is axiomatic that cases\\nare not authority for propositions they did not consider or address. (Gomez v. Superior Court\\n(2005) 35 Cal. 4th 1125, 1153; People v. Alvarez (2002) 27 Cal.4th 1161, 1176; Chevron U.S.A.,\\nInc. v. Workers’ Comp. Appeals Bd. (Steele) (1999) 19 Cal.4th 1182, 1195 [64 Cal.Comp.Cases\\n1].) The Green dictum did not consider or address the express mandates of section 5956.\\nTherefore, it does not change our conclusion that a grant of a writ of review does not alter the\\nbinding effect of an en banc decision on all Appeals Board panels and WCJs.', 'Subsequently, in Marsh v. Workers’ Comp. Appeals Bd., supra, 130 Cal.App.4th 906 [70\\nCal.Comp.Cases 787], another Court of Appeal discussed the Appeals Board’s en banc decision\\nin Schefiner, and said: “The persuasive weight of the WCAB’s opinion is further diminished\\nbecause the Third Appellate District has since granted [a] writ [of] review in Schefiner ... . (Cf.\\nCal. Rules of Court, rule 976(d)(1) [appellate decision loses precedential value upon rehearing or\\nSupreme Court review].)” (130 Cal.App.4th at p. 913.) Again, however, this statement is dictum\\nthat did not consider or address section 5956. Moreover, the statement seems to recognize that', 'no Rule of Court renders an Appeals Board decision inoperative merely upon the grant of a writ', 'DIGGLE, WILMA 6', ' ', ' \\n\\x0c ', '20)', '21', '22', '23', '24', '25)', '26', '27', ' ', ' ', 'of review. Rather, it suggests only that, to the extent that an Appeals Board decision can be\\npersuasive authority to a Court of Appeal (and, of course, Appeals Board decisions are not\\nbinding on a Court of Appeal), the persuasiveness of an Appeals Board decision to a Court of\\nAppeal may be lessened when a writ has been granted with respect to that decision.\\nAccordingly, the dictum in Marsh also does not change our conclusion that a grant of a writ of\\nreview does not alter the binding effect of an en banc decision on all Appeals Board panels and\\nWCIs.', 'Of course, if an appellate court “stay[s] or suspend[s] the operation” of an en banc\\ndecision under section 5956 (see also, Lab. Code, 6000),° then the binding effect of the en banc\\ndecision on Appeals Board panels and WCJs is also stayed or suspended — at least until the\\nsuspension or stay order is lifted.', 'Also, if an appellate court issues an opinion that explicitly or implicitly overrules an en\\nbanc decision of the Appeals Board, then, under the principle of stare decisis, the Court’s\\ndecision is controlling and the en banc decision no longer can be followed by the Appeals Board\\nor any WCJ. (Auto Equity Sales v. Superior Court (1962) 57 Cal.2d 450, 455; Escobedo v.\\nMarshalls (2005) 70 Cal.Comp.Cases 604, 609, fn. 4 (Appeals Board en banc).) There may be\\nsome exceptions to this standard principle (e.g., when an en banc decision is only partially\\noverruled, or where it is indirectly overruled in a non-published appellate opinion), however, we\\nneed not and will not address any such scenarios here.', '/i/\\n/i/', 'For the foregoing reasons,', 'Section 6000 states:', '“The operation of any order, decision, or award of the appeals board under the provisions\\nof this division or any judgment entered thereon, shall not at any time be stayed by the\\ncourt to which petition is made for a writ of review, unless an undertaking is executed on\\nthe part of the petitioner.”', 'DIGGLE, WILMA 7', ' ', ' \\n\\x0c ', '20)', '21', '22', '23', '24', '25)', '26', '27', ' ', ' ', 'IT IS ORDERED that applicant’s Petition for Reconsideration, filed September 14,', '2005, be, and it is hereby, DENIED.', 'WORKERS’ COMPENSATION APPEALS BOARD', '/s/ William K. O’Brien', 'I CONCUR,', '/s/ Merle C. Rabine', '/s/ James C. Cuneo', 'DATED AND FILED AT SAN FRANCISCO, CALIFORNIA\\nOctober 7, 2005\\nSERVICE BY MAIL ON SAID DATE TO ALL PARTIES AS SHOWN', 'ON THE OFFICIAL ADDRESS RECORD, EXCEPT LIEN CLAIMANTS.', 'nps/ed', 'DIGGLE, WILMA 8', ' ', ' \\n\\x0c']\n"
     ]
    }
   ],
   "source": [
    "with open(\"12.txt\",\"r\",encoding =\"utf-8\")as f:\n",
    "    text = f.read().split(\"\\n\\n\")\n",
    "    print(text)"
   ]
  },
  {
   "cell_type": "code",
   "execution_count": 122,
   "id": "7a2b162d-539d-46eb-b0f1-05938b4be5f1",
   "metadata": {},
   "outputs": [],
   "source": [
    "# Function to convert list to string\n",
    " \n",
    " \n",
    "def listToString(text):\n",
    " \n",
    "    # initialize an empty string\n",
    "    str1 = \"\"\n",
    " \n",
    "    # traverse in the string\n",
    "    for ele in text:\n",
    "        str1 += ele\n",
    " \n",
    "    # return string\n",
    "    return str1"
   ]
  },
  {
   "cell_type": "code",
   "execution_count": 124,
   "id": "29ec7ff4-b5dd-4748-a315-aa98439ab27c",
   "metadata": {},
   "outputs": [
    {
     "data": {
      "text/plain": [
       "' 20)2122232425)2627WORKERS’ COMPENSATION APPEALS BOARD\\nSTATE OF CALIFORNIA Case No. BAK 0138299WILMA DIGGLE,\\nApplicant,\\nOPINION AND ORDER\\nvs. DENYING\\nPETITION FOR\\nSIERRA SANDS UNIFIED SCHOOL RECONSIDERATIONDISTRICT, Permissibly Self-Insured; and\\nSELF-INSURED SCHOOLS OF\\nCALIFORNIA (Adjusting Agent),Defendant(s).    Wilma Diggle (applicant) seeks reconsideration of the “Joint Findings and Fact, Award\\n& Order” issued by the workers’ compensation administrative law judge (WCJ) on August 26,\\n2005.! In that decision, the WCJ found that, on October 4, 2000, applicant sustained an\\nindustrial injury to her spine — but not to her bilateral hands and wrists or to her right knee —\\nwhile employed as a custodian by Sierra Sands Unified School District (defendant). In relevant\\npart, it was further found that applicant’s injury caused 58% permanent disability, after\\napportionment, resulting in a permanent disability indemnity award totaling $56,142.50.In her petition, applicant contends, in substance: (1) that, because a petition for writ of\\nreview has been filed with respect to the Appeals Board’s en banc decision in Nabors v.\\nPiedmont Lumber & Mill Co. (2005) 70 Cal.Comp.Cases 856 (“Nabors”), the Appeals Board\\n“has the authority and discretion to hear and reconsider its prior position in the Nabors case;”\\n(2) that the Supreme Court’s decision in Fuentes v. Worker’s Comp. Appeals Bd. (1976) 16\\nCal.3d 1 [41 Cal.Comp.Cases 42] (“Fuentes”) no longer defines the method of apportioning pre-existing disability because Fuentes was based on an interpretation and application of former! Although applicant’s petition captions both Case Nos. BAK 0138298 and BAK 0138299, her petition onlyraises contentions regarding the latter case. That is, in Case No. BAK 0138298, the WCJ found that she did not\\nsustain a cumulative injury to her spine, bilateral hands and wrists, or right knee from February 14, 1994 through\\nNovember 19, 2000. Applicant does not challenge this finding of no cumulative injury.  \\n\\x0c 20)2122232425)2627  Labor Code section 4750,” which was repealed by Senate Bill 899 (SB 899);* and (3) that, under\\nnew section 4664, the proper way to apportion is to convert her present overall percentage of\\npermanent disability into its current monetary equivalent and then subtract the dollar value of her\\nprior permanent disability award.We will deny reconsideration because the en banc decision in Nabors resolved the issue\\nraised by applicant. An en banc decision of the Appeals Board is binding precedent on all\\nAppeals Board panels and WCJs. (Cal. Code Regs., tit. 8, §10341.) As we shall explain, this\\nprinciple remains true where a petition for writ of review has been filed or even where a writ of\\nreview has been granted, either in the actual case in which the en banc decision issued or in a\\ndifferent case in which the en banc decision is directly implicated, unless and until either (1) the\\nappellate court issues an opinion that explicitly or implicitly overrules the en banc decision or\\n(2) the appellate court stays or suspends the operation of the en banc decision prior to the Court’s\\nissuance of an opinion.I. BACKGROUNDThe facts are not in dispute.On May 18, 1993, applicant sustained an industrial injury to her low back while\\nemployed by defendant. On August 21, 1997, a stipulated Award issued which determined,\\namong other things, that this injury caused permanent disability of 12%. Applicant was awarded\\npermanent disability indemnity in the total sum of $3,994.45 (payable at the rate of $104.43 per\\nweek for 38.25 weeks).In the present case, applicant sustained an industrial injury to her spine on October 4,\\n2000. At trial, the parties stipulated that applicant’s overall spinal permanent disability is now\\n70%, after adjustment for age and occupation, but before apportionment. The parties agreed that\\nthere must be “apportionment ... due to her prior Award of 12-percent disability.” The partiesalso stipulated: (1) that if the apportionment is accomplished by subtracting the prior percentage2 :\\nUnless otherwise noted, all further statutory references are to the Labor Code.Stats. 2004, ch. 34, §34.DIGGLE, WILMA >  \\n\\x0c 20)2122232425)2627  disability from the current overall percentage disability, then applicant is 58% disabled and\\nentitled to permanent partial disability indemnity of $56,142.51; (2) that if the apportionment is\\naccomplished by subtracting the prior number of weeks of permanent disability indemnity from\\nthe number of weeks of permanent disability indemnity due for permanent disability of 70%,\\nthen applicant is entitled to partial disability indemnity totaling $66,002.50; and (3) that if the\\napportionment is accomplished by crediting the dollar amount of the prior permanent award\\nagainst the dollar amount for permanent disability of 70%, then applicant is entitled to\\npermanent partial disability indemnity totaling $94,100.55. The parties then submitted the issue\\nof “the method of apportionment” for decision.On August 26, 2005, the WCJ issued the decision in question here. He reached the 58%\\npermanent disability finding, after apportionment, by subtracting the percentage of permanent\\ndisability under her prior award (12%) from her current overall percentage of permanent\\ndisability (70%). In reaching this finding, the WCJ observed: (1) that the Appeals Board’s en\\nbanc decision in Nabors “resolved the question of the proper method of apportionment, selecting\\nthe subtraction method;” (2) that “en banc decisions of the Appeals Board are binding precedent\\non all ... individual [WCJs]; and (3) that, therefore, “[a]n individual [WCJ] has no discretion to\\napportion by a different method.”Applicant then filed her petition for reconsideration, raising the contentions summarized\\nabove. No answer to the petition for reconsideration has been received. In his Report and\\nRecommendation on Petition for Reconsideration (Report), however, the WCJ recommends thatreconsideration be denied. In his Report, the WCJ states:“The constitutional mandate of California’s workers’ compensation\\nsystem is to ‘accomplish substantial justice in all cases\\nexpeditiously, inexpensively, and without incumbrance of any\\ncharacter’ Cal. Const. Art. XIV §4. The constitutional mandate for\\nexpeditious and unencumbered proceedings cannot be carried out if\\nthe rules of law remain ‘unsettled’ until the last possible appeal of a\\nprecedent-setting case has been decided by the last possible court.DIGGLE, WILMA 3  \\n\\x0c 20)2122232425)2627  “Under the legal theory urged by Petitioner, the situation in the\\npresent case will remain unsettled until [the] First District Court of\\nAppeals reaches its decision on the Petition for Writ of Review in\\nNabors, supra, which will thereafter be subject to further potential\\nappeal[] to the California Supreme Court .... Under the legal theory\\nurged by Petitioner, this case and nearly every other post-SB 899\\nCalifornia workers’ compensation case raising bona fide issues of\\napportionment must sit unresolved until this process (potentially\\nspanning many years) is completed.“Such is not the law. The better view is that the en banc decisions of\\nthe Appeals Board are binding precedent on all panels and individual\\n[WCJs]. WCAB Rule 10341 (8 CCR § 10341); City of Long Beach\\nv. WCAB (Garcia) (2005) 126 Cal.App.4th 298, 313 fn 5, 70 CCC\\n109; Gee v. WCAB (2002) 96 Cal.App.4th 1418, 1425 fn 6; 67 CCC\\n236, 239 fn 6. When, but only when, the WCAB’s decision is\\noverturned by a higher tribunal does it cease to be a bindingprecedent .... Thus, unless and until overturned, the WCAB’s\\ndecision in Nabors, supra, is a correct statement of the applicable\\ntule of law. ...“To do otherwise is to defeat the constitutional mandate of\\nexpeditious and unencumbered proceedings every time a party to a\\nprecedent-setting decision exercises its legal right to judicial\\nreview.”IL. DISCUSSIONThe en banc decision in Nabors expressly rejected applicant’s contention that the repeal\\nof former section 4750 invalidated the method of apportioning pre-existing disability set forth by\\nthe Supreme Court in Fuentes. That is, Nabors held that, under SB 899, where two or more\\ninjuries cause successive permanent disabilities that can be separated, the percentage of the\\npreviously awarded permanent disability is to be subtracted from the overall percentage of\\npermanent disability using the same method (“Formula A”) adopted by the Supreme Court in\\nFuentes.Nabors is an en banc decision of the Appeals Board. En banc decisions are binding\\nprecedent on all Appeals Board panels and WCJs. (Cal. Code Regs., tit. 8, §10341; City of Long\\nBeach v. Workers’ Comp. Appeals Bd. (Garcia) (2005) 126 Cal.App.4th 298, 313, fn. 5 [70\\nCal.Comp.Cases 109]; Gee v. Workers’ Comp. Appeals Bd. (2002) 96 Cal.App.4th 1418, 1425,DIGGLE, WILMA 4  \\n\\x0c 20)2122232425)2627  fn. 6 [67 Cal.Comp.Cases 236]; see also Govt. Code, §11425.60(b).) We cannot and will not\\nrevisit Nabors here.We recognize that, in Nabors, a petition for writ of review has been filed with the First\\nAppellate District, Division Two (Nabors v. Workers’ Comp. Appeals Bd., \\\\st Civ. No. A110792\\n(WCAB Case No. SRO 0122159)). That Court, however, has not yet acted on the petition.Moreover, a writ of review has been granted by the Fifth Appellate District in a case that\\ndirectly presents a Nabors issue (E&J Gallo Winery v. Workers’ Comp. Appeals Bd. (Dykes), 5th\\nCiv. No. F047246 (WCAB Case No. STK 0188538)).’ Yet, that Court has not issued an opinion\\nor suspended the effect of Nabors.Neither the filing of a petition for writ or review in Nabors nor the granting of a writ of\\nreview in Dykes, standing alone, changes the legal effect of the Nabors en banc decision, 1.e.,\\nNabors remains binding precedent on all Appeals Board panels and WCJs.Labor Code section 5956 states:“The filing of a petition for, or the pendency of, a writ of review\\nshall not of itself stay or suspend the operation of any order, rule,\\ndecision, or award of the appeals board, but the court before which\\nthe petition is filed may stay or suspend, in whole or in part, the\\noperation of the order, decision, or award of the appeals board\\nsubject to review, upon the terms and conditions which it by order\\ndirects, except as provided in Article 3 of this chapter [relating to\\nundertakings].” (Emphasis added.)Thus, section 5956 specifically provides that “[¢]he filing of a petition for ... a writ of\\nreview shall not of itself stay or suspend the operation of any ... decision of the appeals board.”\\n(Emphasis added.) Consequently, the mere fact that a petition for writ of review was filed in\\nNabors, standing alone, does not affect the “operation” of the Nabors en banc decision, 1.e.,Nabors remains binding precedent on all Appeals Board panels and WCIs.°45For further information, see summary at 33 Cal. Workers’ Comp. Rptr. 213-214 (September 2005).Section 5956’s reference to “any” decision of the Appeals Board establishes that not even an en banc\\ndecision is affected by the filing of an appellate petition. (See Delaney v. Superior Court (1990) 50 Cal.3d 785, 798\\n(‘the word ‘any’ means without limit and no matter what kind”).)DIGGLE, WILMA 5  \\n\\x0c 20)2122232425)2627  Section 5956 also specifically provides that “[t]he pendency of ... a writ of review shall\\nnot of itself stay or suspend the operation of any ... decision of the appeals board.” (Emphasis\\nadded.) Consequently, the mere fact that a writ of review was granted and is now “pend[ing]” in\\nDykes, standing alone, does not affect the “operation” of the Nabors en banc decision, 1.e.,\\nNabors remains binding precedent on all Appeals Board panels and WCJs.We recognize that, in discussing the now-overruled en banc decision in Scheftner v. Rio\\nLinda School Dist. [see 69 Cal.Comp.Cases 1281 (2005)], one Court of Appeal stated in dictum:\\n“Schefiner was appealed and review was granted by the Third Appellate District ... , rendering it\\nuncitable as authority.” (Green v. Workers’ Comp. Appeals Bd., supra, 127 Cal.App.4th 1426,\\n1442, fn. 40 [70 Cal.Comp.Cases 294] (emphasis added).) Nevertheless, dictum is not binding.\\n(9 Witkin, Cal. Procedure (4th ed. 1997) Appeal, §945, pp. 986-987.) Moreover, although\\ndictum may be persuasive authority if made by a court after careful consideration or in the\\ncourse of an elaborate review of the authorities (id., §947, pp. 989-991), it is axiomatic that cases\\nare not authority for propositions they did not consider or address. (Gomez v. Superior Court\\n(2005) 35 Cal. 4th 1125, 1153; People v. Alvarez (2002) 27 Cal.4th 1161, 1176; Chevron U.S.A.,\\nInc. v. Workers’ Comp. Appeals Bd. (Steele) (1999) 19 Cal.4th 1182, 1195 [64 Cal.Comp.Cases\\n1].) The Green dictum did not consider or address the express mandates of section 5956.\\nTherefore, it does not change our conclusion that a grant of a writ of review does not alter the\\nbinding effect of an en banc decision on all Appeals Board panels and WCJs.Subsequently, in Marsh v. Workers’ Comp. Appeals Bd., supra, 130 Cal.App.4th 906 [70\\nCal.Comp.Cases 787], another Court of Appeal discussed the Appeals Board’s en banc decision\\nin Schefiner, and said: “The persuasive weight of the WCAB’s opinion is further diminished\\nbecause the Third Appellate District has since granted [a] writ [of] review in Schefiner ... . (Cf.\\nCal. Rules of Court, rule 976(d)(1) [appellate decision loses precedential value upon rehearing or\\nSupreme Court review].)” (130 Cal.App.4th at p. 913.) Again, however, this statement is dictum\\nthat did not consider or address section 5956. Moreover, the statement seems to recognize thatno Rule of Court renders an Appeals Board decision inoperative merely upon the grant of a writDIGGLE, WILMA 6  \\n\\x0c 20)2122232425)2627  of review. Rather, it suggests only that, to the extent that an Appeals Board decision can be\\npersuasive authority to a Court of Appeal (and, of course, Appeals Board decisions are not\\nbinding on a Court of Appeal), the persuasiveness of an Appeals Board decision to a Court of\\nAppeal may be lessened when a writ has been granted with respect to that decision.\\nAccordingly, the dictum in Marsh also does not change our conclusion that a grant of a writ of\\nreview does not alter the binding effect of an en banc decision on all Appeals Board panels and\\nWCIs.Of course, if an appellate court “stay[s] or suspend[s] the operation” of an en banc\\ndecision under section 5956 (see also, Lab. Code, 6000),° then the binding effect of the en banc\\ndecision on Appeals Board panels and WCJs is also stayed or suspended — at least until the\\nsuspension or stay order is lifted.Also, if an appellate court issues an opinion that explicitly or implicitly overrules an en\\nbanc decision of the Appeals Board, then, under the principle of stare decisis, the Court’s\\ndecision is controlling and the en banc decision no longer can be followed by the Appeals Board\\nor any WCJ. (Auto Equity Sales v. Superior Court (1962) 57 Cal.2d 450, 455; Escobedo v.\\nMarshalls (2005) 70 Cal.Comp.Cases 604, 609, fn. 4 (Appeals Board en banc).) There may be\\nsome exceptions to this standard principle (e.g., when an en banc decision is only partially\\noverruled, or where it is indirectly overruled in a non-published appellate opinion), however, we\\nneed not and will not address any such scenarios here./i/\\n/i/For the foregoing reasons,Section 6000 states:“The operation of any order, decision, or award of the appeals board under the provisions\\nof this division or any judgment entered thereon, shall not at any time be stayed by the\\ncourt to which petition is made for a writ of review, unless an undertaking is executed on\\nthe part of the petitioner.”DIGGLE, WILMA 7  \\n\\x0c 20)2122232425)2627  IT IS ORDERED that applicant’s Petition for Reconsideration, filed September 14,2005, be, and it is hereby, DENIED.WORKERS’ COMPENSATION APPEALS BOARD/s/ William K. O’BrienI CONCUR,/s/ Merle C. Rabine/s/ James C. CuneoDATED AND FILED AT SAN FRANCISCO, CALIFORNIA\\nOctober 7, 2005\\nSERVICE BY MAIL ON SAID DATE TO ALL PARTIES AS SHOWNON THE OFFICIAL ADDRESS RECORD, EXCEPT LIEN CLAIMANTS.nps/edDIGGLE, WILMA 8  \\n\\x0c'"
      ]
     },
     "execution_count": 124,
     "metadata": {},
     "output_type": "execute_result"
    }
   ],
   "source": [
    "text = listToString(text)\n",
    "text"
   ]
  },
  {
   "cell_type": "markdown",
   "id": "35ee1bca-cc62-40b4-bc6e-2a1e7aafd222",
   "metadata": {},
   "source": [
    "##  Pre-process text"
   ]
  },
  {
   "cell_type": "code",
   "execution_count": 215,
   "id": "4e321b78-62e4-4d58-8c49-801816656fd5",
   "metadata": {},
   "outputs": [],
   "source": [
    "def clean(text):\n",
    "    \n",
    "    # removing paragraph numbers\n",
    "    text = re.sub('[0-9]+.\\t','',str(text))\n",
    "    # removing new line characters\n",
    "    text = re.sub('\\n ','',str(text))\n",
    "    text = re.sub('\\n',' ',str(text))\n",
    "    # removing apostrophes\n",
    "    text = re.sub(\"'s\",'',str(text))\n",
    "    # removing hyphens\n",
    "    text = re.sub(\"-\",' ',str(text))\n",
    "    text = re.sub(\"— \",'',str(text))\n",
    "    # removing quotation marks\n",
    "    text = re.sub('\\\"','',str(text))\n",
    "    # removing salutations\n",
    "    text = re.sub(\"Mr\\.\",'Mr',str(text))\n",
    "    text = re.sub(\"Mrs\\.\",'Mrs',str(text))\n",
    "    # removing any reference to outside text\n",
    "    text = re.sub(\"[\\(\\[].*?[\\)\\]]\", \"\", str(text))\n",
    "    \n",
    "    return text\n",
    "clean_text= clean(text)"
   ]
  },
  {
   "cell_type": "code",
   "execution_count": 216,
   "id": "4363cc27-c5f8-47db-8317-b95beb35269e",
   "metadata": {},
   "outputs": [
    {
     "data": {
      "text/plain": [
       "' 20)2122232425)2627WORKERS’ COMPENSATION APPEALS BOARD\\nSTATE OF CALIFORNIA Case No. BAK 0138299WILMA DIGGLE,\\nApplicant,\\nOPINION AND ORDER\\nvs. DENYING\\nPETITION FOR\\nSIERRA SANDS UNIFIED SCHOOL RECONSIDERATIONDISTRICT, Permissibly Self-Insured; and\\nSELF-INSURED SCHOOLS OF\\nCALIFORNIA ,Defendant.    Wilma Diggle  seeks reconsideration of the “Joint Findings and Fact, Award\\n& Order” issued by the workers’ compensation administrative law judge  on August 26,\\n2005.! In that decision, the WCJ found that, on October 4, 2000, applicant sustained an\\nindustrial injury to her spine — but not to her bilateral hands and wrists or to her right knee —\\nwhile employed as a custodian by Sierra Sands Unified School District . In relevant\\npart, it was further found that applicant’s injury caused 58% permanent disability, after\\napportionment, resulting in a permanent disability indemnity award totaling $56,142.50.In her petition, applicant contends, in substance:  that, because a petition for writ of\\nreview has been filed with respect to the Appeals Board’s en banc decision in Nabors v.\\nPiedmont Lumber & Mill Co.  70 Cal.Comp.Cases 856 , the Appeals Board\\n“has the authority and discretion to hear and reconsider its prior position in the Nabors case;”\\n that the Supreme Court’s decision in Fuentes v. Worker’s Comp. Appeals Bd.  16\\nCal.3d 1   no longer defines the method of apportioning pre-existing disability because Fuentes was based on an interpretation and application of former! Although applicant’s petition captions both Case Nos. BAK 0138298 and BAK 0138299, her petition onlyraises contentions regarding the latter case. That is, in Case No. BAK 0138298, the WCJ found that she did not\\nsustain a cumulative injury to her spine, bilateral hands and wrists, or right knee from February 14, 1994 through\\nNovember 19, 2000. Applicant does not challenge this finding of no cumulative injury.  \\n\\x0c 20)2122232425)2627  Labor Code section 4750,” which was repealed by Senate Bill 899 ;* and  that, under\\nnew section 4664, the proper way to apportion is to convert her present overall percentage of\\npermanent disability into its current monetary equivalent and then subtract the dollar value of her\\nprior permanent disability award.We will deny reconsideration because the en banc decision in Nabors resolved the issue\\nraised by applicant. An en banc decision of the Appeals Board is binding precedent on all\\nAppeals Board panels and WCJs.  As we shall explain, this\\nprinciple remains true where a petition for writ of review has been filed or even where a writ of\\nreview has been granted, either in the actual case in which the en banc decision issued or in a\\ndifferent case in which the en banc decision is directly implicated, unless and until either  the\\nappellate court issues an opinion that explicitly or implicitly overrules the en banc decision or\\n the appellate court stays or suspends the operation of the en banc decision prior to the Court’s\\nissuance of an opinion.I. BACKGROUNDThe facts are not in dispute.On May 18, 1993, applicant sustained an industrial injury to her low back while\\nemployed by defendant. On August 21, 1997, a stipulated Award issued which determined,\\namong other things, that this injury caused permanent disability of 12%. Applicant was awarded\\npermanent disability indemnity in the total sum of $3,994.45 (payable at the rate of $104.43 per\\nweek for 38.25 weeks).In the present case, applicant sustained an industrial injury to her spine on October 4,\\n2000. At trial, the parties stipulated that applicant’s overall spinal permanent disability is now\\n70%, after adjustment for age and occupation, but before apportionment. The parties agreed that\\nthere must be “apportionment ... due to her prior Award of 12-percent disability.” The partiesalso stipulated:  that if the apportionment is accomplished by subtracting the prior percentage2 :\\nUnless otherwise noted, all further statutory references are to the Labor Code.Stats. 2004, ch. 34, §34.DIGGLE, WILMA >  \\n\\x0c 20)2122232425)2627  disability from the current overall percentage disability, then applicant is 58% disabled and\\nentitled to permanent partial disability indemnity of $56,142.51;  that if the apportionment is\\naccomplished by subtracting the prior number of weeks of permanent disability indemnity from\\nthe number of weeks of permanent disability indemnity due for permanent disability of 70%,\\nthen applicant is entitled to partial disability indemnity totaling $66,002.50; and  that if the\\napportionment is accomplished by crediting the dollar amount of the prior permanent award\\nagainst the dollar amount for permanent disability of 70%, then applicant is entitled to\\npermanent partial disability indemnity totaling $94,100.55. The parties then submitted the issue\\nof “the method of apportionment” for decision.On August 26, 2005, the WCJ issued the decision in question here. He reached the 58%\\npermanent disability finding, after apportionment, by subtracting the percentage of permanent\\ndisability under her prior award  from her current overall percentage of permanent\\ndisability . In reaching this finding, the WCJ observed:  that the Appeals Board’s en\\nbanc decision in Nabors “resolved the question of the proper method of apportionment, selecting\\nthe subtraction method;”  that “en banc decisions of the Appeals Board are binding precedent\\non all ... individual ; and  that, therefore, “n individual  has no discretion to\\napportion by a different method.”Applicant then filed her petition for reconsideration, raising the contentions summarized\\nabove. No answer to the petition for reconsideration has been received. In his Report and\\nRecommendation on Petition for Reconsideration , however, the WCJ recommends thatreconsideration be denied. In his Report, the WCJ states:“The constitutional mandate of California’s workers’ compensation\\nsystem is to ‘accomplish substantial justice in all cases\\nexpeditiously, inexpensively, and without incumbrance of any\\ncharacter’ Cal. Const. Art. XIV §4. The constitutional mandate for\\nexpeditious and unencumbered proceedings cannot be carried out if\\nthe rules of law remain ‘unsettled’ until the last possible appeal of a\\nprecedent-setting case has been decided by the last possible court.DIGGLE, WILMA 3  \\n\\x0c 20)2122232425)2627  “Under the legal theory urged by Petitioner, the situation in the\\npresent case will remain unsettled until  First District Court of\\nAppeals reaches its decision on the Petition for Writ of Review in\\nNabors, supra, which will thereafter be subject to further potential\\nappeal to the California Supreme Court .... Under the legal theory\\nurged by Petitioner, this case and nearly every other post-SB 899\\nCalifornia workers’ compensation case raising bona fide issues of\\napportionment must sit unresolved until this process (potentially\\nspanning many years) is completed.“Such is not the law. The better view is that the en banc decisions of\\nthe Appeals Board are binding precedent on all panels and individual\\n. WCAB Rule 10341 ; City of Long Beach\\nv. WCAB   126 Cal.App.4th 298, 313 fn 5, 70 CCC\\n109; Gee v. WCAB  96 Cal.App.4th 1418, 1425 fn 6; 67 CCC\\n236, 239 fn 6. When, but only when, the WCAB’s decision is\\noverturned by a higher tribunal does it cease to be a bindingprecedent .... Thus, unless and until overturned, the WCAB’s\\ndecision in Nabors, supra, is a correct statement of the applicable\\ntule of law. ...“To do otherwise is to defeat the constitutional mandate of\\nexpeditious and unencumbered proceedings every time a party to a\\nprecedent-setting decision exercises its legal right to judicial\\nreview.”IL. DISCUSSIONThe en banc decision in Nabors expressly rejected applicant’s contention that the repeal\\nof former section 4750 invalidated the method of apportioning pre-existing disability set forth by\\nthe Supreme Court in Fuentes. That is, Nabors held that, under SB 899, where two or more\\ninjuries cause successive permanent disabilities that can be separated, the percentage of the\\npreviously awarded permanent disability is to be subtracted from the overall percentage of\\npermanent disability using the same method  adopted by the Supreme Court in\\nFuentes.Nabors is an en banc decision of the Appeals Board. En banc decisions are binding\\nprecedent on all Appeals Board panels and WCJs. (Cal. Code Regs., tit. 8, §10341; City of Long\\nBeach v. Workers’ Comp. Appeals Bd.   126 Cal.App.4th 298, 313, fn. 5 [70\\nCal.Comp.Cases 109]; Gee v. Workers’ Comp. Appeals Bd.  96 Cal.App.4th 1418, 1425,DIGGLE, WILMA 4  \\n\\x0c 20)2122232425)2627  fn. 6 ; see also Govt. Code, §11425.60.) We cannot and will not\\nrevisit Nabors here.We recognize that, in Nabors, a petition for writ of review has been filed with the First\\nAppellate District, Division Two (Nabors v. Workers’ Comp. Appeals Bd., \\\\st Civ. No. A110792\\n). That Court, however, has not yet acted on the petition.Moreover, a writ of review has been granted by the Fifth Appellate District in a case that\\ndirectly presents a Nabors issue , 5th\\nCiv. No. F047246 ).’ Yet, that Court has not issued an opinion\\nor suspended the effect of Nabors.Neither the filing of a petition for writ or review in Nabors nor the granting of a writ of\\nreview in Dykes, standing alone, changes the legal effect of the Nabors en banc decision, 1.e.,\\nNabors remains binding precedent on all Appeals Board panels and WCJs.Labor Code section 5956 states:“The filing of a petition for, or the pendency of, a writ of review\\nshall not of itself stay or suspend the operation of any order, rule,\\ndecision, or award of the appeals board, but the court before which\\nthe petition is filed may stay or suspend, in whole or in part, the\\noperation of the order, decision, or award of the appeals board\\nsubject to review, upon the terms and conditions which it by order\\ndirects, except as provided in Article 3 of this chapter [relating to\\nundertakings].” Thus, section 5956 specifically provides that “he filing of a petition for ... a writ of\\nreview shall not of itself stay or suspend the operation of any ... decision of the appeals board.”\\n Consequently, the mere fact that a petition for writ of review was filed in\\nNabors, standing alone, does not affect the “operation” of the Nabors en banc decision, 1.e.,Nabors remains binding precedent on all Appeals Board panels and WCIs.°45For further information, see summary at 33 Cal. Workers’ Comp. Rptr. 213-214 .Section 5956’s reference to “any” decision of the Appeals Board establishes that not even an en banc\\ndecision is affected by the filing of an appellate petition.  50 Cal.3d 785, 798\\n.)DIGGLE, WILMA 5  \\n\\x0c 20)2122232425)2627  Section 5956 also specifically provides that “he pendency of ... a writ of review shall\\nnot of itself stay or suspend the operation of any ... decision of the appeals board.” (Emphasis\\nadded.) Consequently, the mere fact that a writ of review was granted and is now “pend” in\\nDykes, standing alone, does not affect the “operation” of the Nabors en banc decision, 1.e.,\\nNabors remains binding precedent on all Appeals Board panels and WCJs.We recognize that, in discussing the now-overruled en banc decision in Scheftner v. Rio\\nLinda School Dist. ], one Court of Appeal stated in dictum:\\n“Schefiner was appealed and review was granted by the Third Appellate District ... , rendering it\\nuncitable as authority.” (Green v. Workers’ Comp. Appeals Bd., supra, 127 Cal.App.4th 1426,\\n1442, fn. 40  .) Nevertheless, dictum is not binding.\\n Appeal, §945, pp. 986-987.) Moreover, although\\ndictum may be persuasive authority if made by a court after careful consideration or in the\\ncourse of an elaborate review of the authorities , it is axiomatic that cases\\nare not authority for propositions they did not consider or address. (Gomez v. Superior Court\\n 35 Cal. 4th 1125, 1153; People v. Alvarez  27 Cal.4th 1161, 1176; Chevron U.S.A.,\\nInc. v. Workers’ Comp. Appeals Bd.   19 Cal.4th 1182, 1195 [64 Cal.Comp.Cases\\n1].) The Green dictum did not consider or address the express mandates of section 5956.\\nTherefore, it does not change our conclusion that a grant of a writ of review does not alter the\\nbinding effect of an en banc decision on all Appeals Board panels and WCJs.Subsequently, in Marsh v. Workers’ Comp. Appeals Bd., supra, 130 Cal.App.4th 906 [70\\nCal.Comp.Cases 787], another Court of Appeal discussed the Appeals Board’s en banc decision\\nin Schefiner, and said: “The persuasive weight of the WCAB’s opinion is further diminished\\nbecause the Third Appellate District has since granted  writ  review in Schefiner ... . (Cf.\\nCal. Rules of Court, rule 976 [appellate decision loses precedential value upon rehearing or\\nSupreme Court review].)”  Again, however, this statement is dictum\\nthat did not consider or address section 5956. Moreover, the statement seems to recognize thatno Rule of Court renders an Appeals Board decision inoperative merely upon the grant of a writDIGGLE, WILMA 6  \\n\\x0c 20)2122232425)2627  of review. Rather, it suggests only that, to the extent that an Appeals Board decision can be\\npersuasive authority to a Court of Appeal (and, of course, Appeals Board decisions are not\\nbinding on a Court of Appeal), the persuasiveness of an Appeals Board decision to a Court of\\nAppeal may be lessened when a writ has been granted with respect to that decision.\\nAccordingly, the dictum in Marsh also does not change our conclusion that a grant of a writ of\\nreview does not alter the binding effect of an en banc decision on all Appeals Board panels and\\nWCIs.Of course, if an appellate court “stay or suspend the operation” of an en banc\\ndecision under section 5956 ,° then the binding effect of the en banc\\ndecision on Appeals Board panels and WCJs is also stayed or suspended — at least until the\\nsuspension or stay order is lifted.Also, if an appellate court issues an opinion that explicitly or implicitly overrules an en\\nbanc decision of the Appeals Board, then, under the principle of stare decisis, the Court’s\\ndecision is controlling and the en banc decision no longer can be followed by the Appeals Board\\nor any WCJ.  57 Cal.2d 450, 455; Escobedo v.\\nMarshalls  70 Cal.Comp.Cases 604, 609, fn. 4 .) There may be\\nsome exceptions to this standard principle (e.g., when an en banc decision is only partially\\noverruled, or where it is indirectly overruled in a non-published appellate opinion), however, we\\nneed not and will not address any such scenarios here./i/\\n/i/For the foregoing reasons,Section 6000 states:“The operation of any order, decision, or award of the appeals board under the provisions\\nof this division or any judgment entered thereon, shall not at any time be stayed by the\\ncourt to which petition is made for a writ of review, unless an undertaking is executed on\\nthe part of the petitioner.”DIGGLE, WILMA 7  \\n\\x0c 20)2122232425)2627  IT IS ORDERED that applicant’s Petition for Reconsideration, filed September 14,2005, be, and it is hereby, DENIED.WORKERS’ COMPENSATION APPEALS BOARD/s/ William K. O’BrienI CONCUR,/s/ Merle C. Rabine/s/ James C. CuneoDATED AND FILED AT SAN FRANCISCO, CALIFORNIA\\nOctober 7, 2005\\nSERVICE BY MAIL ON SAID DATE TO ALL PARTIES AS SHOWNON THE OFFICIAL ADDRESS RECORD, EXCEPT LIEN CLAIMANTS.nps/edDIGGLE, WILMA 8  \\n\\x0c'"
      ]
     },
     "execution_count": 218,
     "metadata": {},
     "output_type": "execute_result"
    }
   ],
   "source": [
    "clean_text"
   ]
  },
  {
   "cell_type": "markdown",
   "id": "36acb760-715a-45df-83e3-1747e2499733",
   "metadata": {},
   "source": [
    "## Splitting sentences"
   ]
  },
  {
   "cell_type": "code",
   "execution_count": 225,
   "id": "38bfbe4c-c26d-47bd-9197-1cb785479f46",
   "metadata": {},
   "outputs": [],
   "source": [
    "# split sentences\n",
    "def sentences(text):\n",
    "    # split sentences and questions\n",
    "    text = re.split('[?]', text)\n",
    "    clean_sent = []\n",
    "    for sent in text:\n",
    "        clean_sent.append(sent)\n",
    "    return clean_sent\n",
    "\n",
    "split_sent = sentences(clean_text)"
   ]
  },
  {
   "cell_type": "code",
   "execution_count": 226,
   "id": "449709f2-c360-4134-b0f3-e48fcff6e628",
   "metadata": {},
   "outputs": [
    {
     "data": {
      "text/plain": [
       "[' 20)2122232425)2627WORKERS’ COMPENSATION APPEALS BOARD\\nSTATE OF CALIFORNIA Case No. BAK 0138299WILMA DIGGLE,\\nApplicant,\\nOPINION AND ORDER\\nvs. DENYING\\nPETITION FOR\\nSIERRA SANDS UNIFIED SCHOOL RECONSIDERATIONDISTRICT, Permissibly Self-Insured; and\\nSELF-INSURED SCHOOLS OF\\nCALIFORNIA ,Defendant.    Wilma Diggle  seeks reconsideration of the “Joint Findings and Fact, Award\\n& Order” issued by the workers’ compensation administrative law judge  on August 26,\\n2005.! In that decision, the WCJ found that, on October 4, 2000, applicant sustained an\\nindustrial injury to her spine — but not to her bilateral hands and wrists or to her right knee —\\nwhile employed as a custodian by Sierra Sands Unified School District . In relevant\\npart, it was further found that applicant’s injury caused 58% permanent disability, after\\napportionment, resulting in a permanent disability indemnity award totaling $56,142.50.In her petition, applicant contends, in substance:  that, because a petition for writ of\\nreview has been filed with respect to the Appeals Board’s en banc decision in Nabors v.\\nPiedmont Lumber & Mill Co.  70 Cal.Comp.Cases 856 , the Appeals Board\\n“has the authority and discretion to hear and reconsider its prior position in the Nabors case;”\\n that the Supreme Court’s decision in Fuentes v. Worker’s Comp. Appeals Bd.  16\\nCal.3d 1   no longer defines the method of apportioning pre-existing disability because Fuentes was based on an interpretation and application of former! Although applicant’s petition captions both Case Nos. BAK 0138298 and BAK 0138299, her petition onlyraises contentions regarding the latter case. That is, in Case No. BAK 0138298, the WCJ found that she did not\\nsustain a cumulative injury to her spine, bilateral hands and wrists, or right knee from February 14, 1994 through\\nNovember 19, 2000. Applicant does not challenge this finding of no cumulative injury.  \\n\\x0c 20)2122232425)2627  Labor Code section 4750,” which was repealed by Senate Bill 899 ;* and  that, under\\nnew section 4664, the proper way to apportion is to convert her present overall percentage of\\npermanent disability into its current monetary equivalent and then subtract the dollar value of her\\nprior permanent disability award.We will deny reconsideration because the en banc decision in Nabors resolved the issue\\nraised by applicant. An en banc decision of the Appeals Board is binding precedent on all\\nAppeals Board panels and WCJs.  As we shall explain, this\\nprinciple remains true where a petition for writ of review has been filed or even where a writ of\\nreview has been granted, either in the actual case in which the en banc decision issued or in a\\ndifferent case in which the en banc decision is directly implicated, unless and until either  the\\nappellate court issues an opinion that explicitly or implicitly overrules the en banc decision or\\n the appellate court stays or suspends the operation of the en banc decision prior to the Court’s\\nissuance of an opinion.I. BACKGROUNDThe facts are not in dispute.On May 18, 1993, applicant sustained an industrial injury to her low back while\\nemployed by defendant. On August 21, 1997, a stipulated Award issued which determined,\\namong other things, that this injury caused permanent disability of 12%. Applicant was awarded\\npermanent disability indemnity in the total sum of $3,994.45 (payable at the rate of $104.43 per\\nweek for 38.25 weeks).In the present case, applicant sustained an industrial injury to her spine on October 4,\\n2000. At trial, the parties stipulated that applicant’s overall spinal permanent disability is now\\n70%, after adjustment for age and occupation, but before apportionment. The parties agreed that\\nthere must be “apportionment ... due to her prior Award of 12-percent disability.” The partiesalso stipulated:  that if the apportionment is accomplished by subtracting the prior percentage2 :\\nUnless otherwise noted, all further statutory references are to the Labor Code.Stats. 2004, ch. 34, §34.DIGGLE, WILMA >  \\n\\x0c 20)2122232425)2627  disability from the current overall percentage disability, then applicant is 58% disabled and\\nentitled to permanent partial disability indemnity of $56,142.51;  that if the apportionment is\\naccomplished by subtracting the prior number of weeks of permanent disability indemnity from\\nthe number of weeks of permanent disability indemnity due for permanent disability of 70%,\\nthen applicant is entitled to partial disability indemnity totaling $66,002.50; and  that if the\\napportionment is accomplished by crediting the dollar amount of the prior permanent award\\nagainst the dollar amount for permanent disability of 70%, then applicant is entitled to\\npermanent partial disability indemnity totaling $94,100.55. The parties then submitted the issue\\nof “the method of apportionment” for decision.On August 26, 2005, the WCJ issued the decision in question here. He reached the 58%\\npermanent disability finding, after apportionment, by subtracting the percentage of permanent\\ndisability under her prior award  from her current overall percentage of permanent\\ndisability . In reaching this finding, the WCJ observed:  that the Appeals Board’s en\\nbanc decision in Nabors “resolved the question of the proper method of apportionment, selecting\\nthe subtraction method;”  that “en banc decisions of the Appeals Board are binding precedent\\non all ... individual ; and  that, therefore, “n individual  has no discretion to\\napportion by a different method.”Applicant then filed her petition for reconsideration, raising the contentions summarized\\nabove. No answer to the petition for reconsideration has been received. In his Report and\\nRecommendation on Petition for Reconsideration , however, the WCJ recommends thatreconsideration be denied. In his Report, the WCJ states:“The constitutional mandate of California’s workers’ compensation\\nsystem is to ‘accomplish substantial justice in all cases\\nexpeditiously, inexpensively, and without incumbrance of any\\ncharacter’ Cal. Const. Art. XIV §4. The constitutional mandate for\\nexpeditious and unencumbered proceedings cannot be carried out if\\nthe rules of law remain ‘unsettled’ until the last possible appeal of a\\nprecedent-setting case has been decided by the last possible court.DIGGLE, WILMA 3  \\n\\x0c 20)2122232425)2627  “Under the legal theory urged by Petitioner, the situation in the\\npresent case will remain unsettled until  First District Court of\\nAppeals reaches its decision on the Petition for Writ of Review in\\nNabors, supra, which will thereafter be subject to further potential\\nappeal to the California Supreme Court .... Under the legal theory\\nurged by Petitioner, this case and nearly every other post-SB 899\\nCalifornia workers’ compensation case raising bona fide issues of\\napportionment must sit unresolved until this process (potentially\\nspanning many years) is completed.“Such is not the law. The better view is that the en banc decisions of\\nthe Appeals Board are binding precedent on all panels and individual\\n. WCAB Rule 10341 ; City of Long Beach\\nv. WCAB   126 Cal.App.4th 298, 313 fn 5, 70 CCC\\n109; Gee v. WCAB  96 Cal.App.4th 1418, 1425 fn 6; 67 CCC\\n236, 239 fn 6. When, but only when, the WCAB’s decision is\\noverturned by a higher tribunal does it cease to be a bindingprecedent .... Thus, unless and until overturned, the WCAB’s\\ndecision in Nabors, supra, is a correct statement of the applicable\\ntule of law. ...“To do otherwise is to defeat the constitutional mandate of\\nexpeditious and unencumbered proceedings every time a party to a\\nprecedent-setting decision exercises its legal right to judicial\\nreview.”IL. DISCUSSIONThe en banc decision in Nabors expressly rejected applicant’s contention that the repeal\\nof former section 4750 invalidated the method of apportioning pre-existing disability set forth by\\nthe Supreme Court in Fuentes. That is, Nabors held that, under SB 899, where two or more\\ninjuries cause successive permanent disabilities that can be separated, the percentage of the\\npreviously awarded permanent disability is to be subtracted from the overall percentage of\\npermanent disability using the same method  adopted by the Supreme Court in\\nFuentes.Nabors is an en banc decision of the Appeals Board. En banc decisions are binding\\nprecedent on all Appeals Board panels and WCJs. (Cal. Code Regs., tit. 8, §10341; City of Long\\nBeach v. Workers’ Comp. Appeals Bd.   126 Cal.App.4th 298, 313, fn. 5 [70\\nCal.Comp.Cases 109]; Gee v. Workers’ Comp. Appeals Bd.  96 Cal.App.4th 1418, 1425,DIGGLE, WILMA 4  \\n\\x0c 20)2122232425)2627  fn. 6 ; see also Govt. Code, §11425.60.) We cannot and will not\\nrevisit Nabors here.We recognize that, in Nabors, a petition for writ of review has been filed with the First\\nAppellate District, Division Two (Nabors v. Workers’ Comp. Appeals Bd., \\\\st Civ. No. A110792\\n). That Court, however, has not yet acted on the petition.Moreover, a writ of review has been granted by the Fifth Appellate District in a case that\\ndirectly presents a Nabors issue , 5th\\nCiv. No. F047246 ).’ Yet, that Court has not issued an opinion\\nor suspended the effect of Nabors.Neither the filing of a petition for writ or review in Nabors nor the granting of a writ of\\nreview in Dykes, standing alone, changes the legal effect of the Nabors en banc decision, 1.e.,\\nNabors remains binding precedent on all Appeals Board panels and WCJs.Labor Code section 5956 states:“The filing of a petition for, or the pendency of, a writ of review\\nshall not of itself stay or suspend the operation of any order, rule,\\ndecision, or award of the appeals board, but the court before which\\nthe petition is filed may stay or suspend, in whole or in part, the\\noperation of the order, decision, or award of the appeals board\\nsubject to review, upon the terms and conditions which it by order\\ndirects, except as provided in Article 3 of this chapter [relating to\\nundertakings].” Thus, section 5956 specifically provides that “he filing of a petition for ... a writ of\\nreview shall not of itself stay or suspend the operation of any ... decision of the appeals board.”\\n Consequently, the mere fact that a petition for writ of review was filed in\\nNabors, standing alone, does not affect the “operation” of the Nabors en banc decision, 1.e.,Nabors remains binding precedent on all Appeals Board panels and WCIs.°45For further information, see summary at 33 Cal. Workers’ Comp. Rptr. 213-214 .Section 5956’s reference to “any” decision of the Appeals Board establishes that not even an en banc\\ndecision is affected by the filing of an appellate petition.  50 Cal.3d 785, 798\\n.)DIGGLE, WILMA 5  \\n\\x0c 20)2122232425)2627  Section 5956 also specifically provides that “he pendency of ... a writ of review shall\\nnot of itself stay or suspend the operation of any ... decision of the appeals board.” (Emphasis\\nadded.) Consequently, the mere fact that a writ of review was granted and is now “pend” in\\nDykes, standing alone, does not affect the “operation” of the Nabors en banc decision, 1.e.,\\nNabors remains binding precedent on all Appeals Board panels and WCJs.We recognize that, in discussing the now-overruled en banc decision in Scheftner v. Rio\\nLinda School Dist. ], one Court of Appeal stated in dictum:\\n“Schefiner was appealed and review was granted by the Third Appellate District ... , rendering it\\nuncitable as authority.” (Green v. Workers’ Comp. Appeals Bd., supra, 127 Cal.App.4th 1426,\\n1442, fn. 40  .) Nevertheless, dictum is not binding.\\n Appeal, §945, pp. 986-987.) Moreover, although\\ndictum may be persuasive authority if made by a court after careful consideration or in the\\ncourse of an elaborate review of the authorities , it is axiomatic that cases\\nare not authority for propositions they did not consider or address. (Gomez v. Superior Court\\n 35 Cal. 4th 1125, 1153; People v. Alvarez  27 Cal.4th 1161, 1176; Chevron U.S.A.,\\nInc. v. Workers’ Comp. Appeals Bd.   19 Cal.4th 1182, 1195 [64 Cal.Comp.Cases\\n1].) The Green dictum did not consider or address the express mandates of section 5956.\\nTherefore, it does not change our conclusion that a grant of a writ of review does not alter the\\nbinding effect of an en banc decision on all Appeals Board panels and WCJs.Subsequently, in Marsh v. Workers’ Comp. Appeals Bd., supra, 130 Cal.App.4th 906 [70\\nCal.Comp.Cases 787], another Court of Appeal discussed the Appeals Board’s en banc decision\\nin Schefiner, and said: “The persuasive weight of the WCAB’s opinion is further diminished\\nbecause the Third Appellate District has since granted  writ  review in Schefiner ... . (Cf.\\nCal. Rules of Court, rule 976 [appellate decision loses precedential value upon rehearing or\\nSupreme Court review].)”  Again, however, this statement is dictum\\nthat did not consider or address section 5956. Moreover, the statement seems to recognize thatno Rule of Court renders an Appeals Board decision inoperative merely upon the grant of a writDIGGLE, WILMA 6  \\n\\x0c 20)2122232425)2627  of review. Rather, it suggests only that, to the extent that an Appeals Board decision can be\\npersuasive authority to a Court of Appeal (and, of course, Appeals Board decisions are not\\nbinding on a Court of Appeal), the persuasiveness of an Appeals Board decision to a Court of\\nAppeal may be lessened when a writ has been granted with respect to that decision.\\nAccordingly, the dictum in Marsh also does not change our conclusion that a grant of a writ of\\nreview does not alter the binding effect of an en banc decision on all Appeals Board panels and\\nWCIs.Of course, if an appellate court “stay or suspend the operation” of an en banc\\ndecision under section 5956 ,° then the binding effect of the en banc\\ndecision on Appeals Board panels and WCJs is also stayed or suspended — at least until the\\nsuspension or stay order is lifted.Also, if an appellate court issues an opinion that explicitly or implicitly overrules an en\\nbanc decision of the Appeals Board, then, under the principle of stare decisis, the Court’s\\ndecision is controlling and the en banc decision no longer can be followed by the Appeals Board\\nor any WCJ.  57 Cal.2d 450, 455; Escobedo v.\\nMarshalls  70 Cal.Comp.Cases 604, 609, fn. 4 .) There may be\\nsome exceptions to this standard principle (e.g., when an en banc decision is only partially\\noverruled, or where it is indirectly overruled in a non-published appellate opinion), however, we\\nneed not and will not address any such scenarios here./i/\\n/i/For the foregoing reasons,Section 6000 states:“The operation of any order, decision, or award of the appeals board under the provisions\\nof this division or any judgment entered thereon, shall not at any time be stayed by the\\ncourt to which petition is made for a writ of review, unless an undertaking is executed on\\nthe part of the petitioner.”DIGGLE, WILMA 7  \\n\\x0c 20)2122232425)2627  IT IS ORDERED that applicant’s Petition for Reconsideration, filed September 14,2005, be, and it is hereby, DENIED.WORKERS’ COMPENSATION APPEALS BOARD/s/ William K. O’BrienI CONCUR,/s/ Merle C. Rabine/s/ James C. CuneoDATED AND FILED AT SAN FRANCISCO, CALIFORNIA\\nOctober 7, 2005\\nSERVICE BY MAIL ON SAID DATE TO ALL PARTIES AS SHOWNON THE OFFICIAL ADDRESS RECORD, EXCEPT LIEN CLAIMANTS.nps/edDIGGLE, WILMA 8  \\n\\x0c']"
      ]
     },
     "execution_count": 226,
     "metadata": {},
     "output_type": "execute_result"
    }
   ],
   "source": [
    "split_sent"
   ]
  },
  {
   "cell_type": "code",
   "execution_count": 227,
   "id": "a58c927d-5a9f-4088-b97c-eb5e8768027b",
   "metadata": {},
   "outputs": [
    {
     "data": {
      "text/plain": [
       "' 20)2122232425)2627WORKERS’ COMPENSATION APPEALS BOARD\\nSTATE OF CALIFORNIA Case No. BAK 0138299WILMA DIGGLE,\\nApplicant,\\nOPINION AND ORDER\\nvs. DENYING\\nPETITION FOR\\nSIERRA SANDS UNIFIED SCHOOL RECONSIDERATIONDISTRICT, Permissibly Self-Insured; and\\nSELF-INSURED SCHOOLS OF\\nCALIFORNIA ,Defendant.    Wilma Diggle  seeks reconsideration of the “Joint Findings and Fact, Award\\n& Order” issued by the workers’ compensation administrative law judge  on August 26,\\n2005.! In that decision, the WCJ found that, on October 4, 2000, applicant sustained an\\nindustrial injury to her spine — but not to her bilateral hands and wrists or to her right knee —\\nwhile employed as a custodian by Sierra Sands Unified School District . In relevant\\npart, it was further found that applicant’s injury caused 58% permanent disability, after\\napportionment, resulting in a permanent disability indemnity award totaling $56,142.50.In her petition, applicant contends, in substance:  that, because a petition for writ of\\nreview has been filed with respect to the Appeals Board’s en banc decision in Nabors v.\\nPiedmont Lumber & Mill Co.  70 Cal.Comp.Cases 856 , the Appeals Board\\n“has the authority and discretion to hear and reconsider its prior position in the Nabors case;”\\n that the Supreme Court’s decision in Fuentes v. Worker’s Comp. Appeals Bd.  16\\nCal.3d 1   no longer defines the method of apportioning pre-existing disability because Fuentes was based on an interpretation and application of former! Although applicant’s petition captions both Case Nos. BAK 0138298 and BAK 0138299, her petition onlyraises contentions regarding the latter case. That is, in Case No. BAK 0138298, the WCJ found that she did not\\nsustain a cumulative injury to her spine, bilateral hands and wrists, or right knee from February 14, 1994 through\\nNovember 19, 2000. Applicant does not challenge this finding of no cumulative injury.  \\n\\x0c 20)2122232425)2627  Labor Code section 4750,” which was repealed by Senate Bill 899 ;* and  that, under\\nnew section 4664, the proper way to apportion is to convert her present overall percentage of\\npermanent disability into its current monetary equivalent and then subtract the dollar value of her\\nprior permanent disability award.We will deny reconsideration because the en banc decision in Nabors resolved the issue\\nraised by applicant. An en banc decision of the Appeals Board is binding precedent on all\\nAppeals Board panels and WCJs.  As we shall explain, this\\nprinciple remains true where a petition for writ of review has been filed or even where a writ of\\nreview has been granted, either in the actual case in which the en banc decision issued or in a\\ndifferent case in which the en banc decision is directly implicated, unless and until either  the\\nappellate court issues an opinion that explicitly or implicitly overrules the en banc decision or\\n the appellate court stays or suspends the operation of the en banc decision prior to the Court’s\\nissuance of an opinion.I. BACKGROUNDThe facts are not in dispute.On May 18, 1993, applicant sustained an industrial injury to her low back while\\nemployed by defendant. On August 21, 1997, a stipulated Award issued which determined,\\namong other things, that this injury caused permanent disability of 12%. Applicant was awarded\\npermanent disability indemnity in the total sum of $3,994.45 (payable at the rate of $104.43 per\\nweek for 38.25 weeks).In the present case, applicant sustained an industrial injury to her spine on October 4,\\n2000. At trial, the parties stipulated that applicant’s overall spinal permanent disability is now\\n70%, after adjustment for age and occupation, but before apportionment. The parties agreed that\\nthere must be “apportionment ... due to her prior Award of 12-percent disability.” The partiesalso stipulated:  that if the apportionment is accomplished by subtracting the prior percentage2 :\\nUnless otherwise noted, all further statutory references are to the Labor Code.Stats. 2004, ch. 34, §34.DIGGLE, WILMA >  \\n\\x0c 20)2122232425)2627  disability from the current overall percentage disability, then applicant is 58% disabled and\\nentitled to permanent partial disability indemnity of $56,142.51;  that if the apportionment is\\naccomplished by subtracting the prior number of weeks of permanent disability indemnity from\\nthe number of weeks of permanent disability indemnity due for permanent disability of 70%,\\nthen applicant is entitled to partial disability indemnity totaling $66,002.50; and  that if the\\napportionment is accomplished by crediting the dollar amount of the prior permanent award\\nagainst the dollar amount for permanent disability of 70%, then applicant is entitled to\\npermanent partial disability indemnity totaling $94,100.55. The parties then submitted the issue\\nof “the method of apportionment” for decision.On August 26, 2005, the WCJ issued the decision in question here. He reached the 58%\\npermanent disability finding, after apportionment, by subtracting the percentage of permanent\\ndisability under her prior award  from her current overall percentage of permanent\\ndisability . In reaching this finding, the WCJ observed:  that the Appeals Board’s en\\nbanc decision in Nabors “resolved the question of the proper method of apportionment, selecting\\nthe subtraction method;”  that “en banc decisions of the Appeals Board are binding precedent\\non all ... individual ; and  that, therefore, “n individual  has no discretion to\\napportion by a different method.”Applicant then filed her petition for reconsideration, raising the contentions summarized\\nabove. No answer to the petition for reconsideration has been received. In his Report and\\nRecommendation on Petition for Reconsideration , however, the WCJ recommends thatreconsideration be denied. In his Report, the WCJ states:“The constitutional mandate of California’s workers’ compensation\\nsystem is to ‘accomplish substantial justice in all cases\\nexpeditiously, inexpensively, and without incumbrance of any\\ncharacter’ Cal. Const. Art. XIV §4. The constitutional mandate for\\nexpeditious and unencumbered proceedings cannot be carried out if\\nthe rules of law remain ‘unsettled’ until the last possible appeal of a\\nprecedent-setting case has been decided by the last possible court.DIGGLE, WILMA 3  \\n\\x0c 20)2122232425)2627  “Under the legal theory urged by Petitioner, the situation in the\\npresent case will remain unsettled until  First District Court of\\nAppeals reaches its decision on the Petition for Writ of Review in\\nNabors, supra, which will thereafter be subject to further potential\\nappeal to the California Supreme Court .... Under the legal theory\\nurged by Petitioner, this case and nearly every other post-SB 899\\nCalifornia workers’ compensation case raising bona fide issues of\\napportionment must sit unresolved until this process (potentially\\nspanning many years) is completed.“Such is not the law. The better view is that the en banc decisions of\\nthe Appeals Board are binding precedent on all panels and individual\\n. WCAB Rule 10341 ; City of Long Beach\\nv. WCAB   126 Cal.App.4th 298, 313 fn 5, 70 CCC\\n109; Gee v. WCAB  96 Cal.App.4th 1418, 1425 fn 6; 67 CCC\\n236, 239 fn 6. When, but only when, the WCAB’s decision is\\noverturned by a higher tribunal does it cease to be a bindingprecedent .... Thus, unless and until overturned, the WCAB’s\\ndecision in Nabors, supra, is a correct statement of the applicable\\ntule of law. ...“To do otherwise is to defeat the constitutional mandate of\\nexpeditious and unencumbered proceedings every time a party to a\\nprecedent-setting decision exercises its legal right to judicial\\nreview.”IL. DISCUSSIONThe en banc decision in Nabors expressly rejected applicant’s contention that the repeal\\nof former section 4750 invalidated the method of apportioning pre-existing disability set forth by\\nthe Supreme Court in Fuentes. That is, Nabors held that, under SB 899, where two or more\\ninjuries cause successive permanent disabilities that can be separated, the percentage of the\\npreviously awarded permanent disability is to be subtracted from the overall percentage of\\npermanent disability using the same method  adopted by the Supreme Court in\\nFuentes.Nabors is an en banc decision of the Appeals Board. En banc decisions are binding\\nprecedent on all Appeals Board panels and WCJs. (Cal. Code Regs., tit. 8, §10341; City of Long\\nBeach v. Workers’ Comp. Appeals Bd.   126 Cal.App.4th 298, 313, fn. 5 [70\\nCal.Comp.Cases 109]; Gee v. Workers’ Comp. Appeals Bd.  96 Cal.App.4th 1418, 1425,DIGGLE, WILMA 4  \\n\\x0c 20)2122232425)2627  fn. 6 ; see also Govt. Code, §11425.60.) We cannot and will not\\nrevisit Nabors here.We recognize that, in Nabors, a petition for writ of review has been filed with the First\\nAppellate District, Division Two (Nabors v. Workers’ Comp. Appeals Bd., \\\\st Civ. No. A110792\\n). That Court, however, has not yet acted on the petition.Moreover, a writ of review has been granted by the Fifth Appellate District in a case that\\ndirectly presents a Nabors issue , 5th\\nCiv. No. F047246 ).’ Yet, that Court has not issued an opinion\\nor suspended the effect of Nabors.Neither the filing of a petition for writ or review in Nabors nor the granting of a writ of\\nreview in Dykes, standing alone, changes the legal effect of the Nabors en banc decision, 1.e.,\\nNabors remains binding precedent on all Appeals Board panels and WCJs.Labor Code section 5956 states:“The filing of a petition for, or the pendency of, a writ of review\\nshall not of itself stay or suspend the operation of any order, rule,\\ndecision, or award of the appeals board, but the court before which\\nthe petition is filed may stay or suspend, in whole or in part, the\\noperation of the order, decision, or award of the appeals board\\nsubject to review, upon the terms and conditions which it by order\\ndirects, except as provided in Article 3 of this chapter [relating to\\nundertakings].” Thus, section 5956 specifically provides that “he filing of a petition for ... a writ of\\nreview shall not of itself stay or suspend the operation of any ... decision of the appeals board.”\\n Consequently, the mere fact that a petition for writ of review was filed in\\nNabors, standing alone, does not affect the “operation” of the Nabors en banc decision, 1.e.,Nabors remains binding precedent on all Appeals Board panels and WCIs.°45For further information, see summary at 33 Cal. Workers’ Comp. Rptr. 213-214 .Section 5956’s reference to “any” decision of the Appeals Board establishes that not even an en banc\\ndecision is affected by the filing of an appellate petition.  50 Cal.3d 785, 798\\n.)DIGGLE, WILMA 5  \\n\\x0c 20)2122232425)2627  Section 5956 also specifically provides that “he pendency of ... a writ of review shall\\nnot of itself stay or suspend the operation of any ... decision of the appeals board.” (Emphasis\\nadded.) Consequently, the mere fact that a writ of review was granted and is now “pend” in\\nDykes, standing alone, does not affect the “operation” of the Nabors en banc decision, 1.e.,\\nNabors remains binding precedent on all Appeals Board panels and WCJs.We recognize that, in discussing the now-overruled en banc decision in Scheftner v. Rio\\nLinda School Dist. ], one Court of Appeal stated in dictum:\\n“Schefiner was appealed and review was granted by the Third Appellate District ... , rendering it\\nuncitable as authority.” (Green v. Workers’ Comp. Appeals Bd., supra, 127 Cal.App.4th 1426,\\n1442, fn. 40  .) Nevertheless, dictum is not binding.\\n Appeal, §945, pp. 986-987.) Moreover, although\\ndictum may be persuasive authority if made by a court after careful consideration or in the\\ncourse of an elaborate review of the authorities , it is axiomatic that cases\\nare not authority for propositions they did not consider or address. (Gomez v. Superior Court\\n 35 Cal. 4th 1125, 1153; People v. Alvarez  27 Cal.4th 1161, 1176; Chevron U.S.A.,\\nInc. v. Workers’ Comp. Appeals Bd.   19 Cal.4th 1182, 1195 [64 Cal.Comp.Cases\\n1].) The Green dictum did not consider or address the express mandates of section 5956.\\nTherefore, it does not change our conclusion that a grant of a writ of review does not alter the\\nbinding effect of an en banc decision on all Appeals Board panels and WCJs.Subsequently, in Marsh v. Workers’ Comp. Appeals Bd., supra, 130 Cal.App.4th 906 [70\\nCal.Comp.Cases 787], another Court of Appeal discussed the Appeals Board’s en banc decision\\nin Schefiner, and said: “The persuasive weight of the WCAB’s opinion is further diminished\\nbecause the Third Appellate District has since granted  writ  review in Schefiner ... . (Cf.\\nCal. Rules of Court, rule 976 [appellate decision loses precedential value upon rehearing or\\nSupreme Court review].)”  Again, however, this statement is dictum\\nthat did not consider or address section 5956. Moreover, the statement seems to recognize thatno Rule of Court renders an Appeals Board decision inoperative merely upon the grant of a writDIGGLE, WILMA 6  \\n\\x0c 20)2122232425)2627  of review. Rather, it suggests only that, to the extent that an Appeals Board decision can be\\npersuasive authority to a Court of Appeal (and, of course, Appeals Board decisions are not\\nbinding on a Court of Appeal), the persuasiveness of an Appeals Board decision to a Court of\\nAppeal may be lessened when a writ has been granted with respect to that decision.\\nAccordingly, the dictum in Marsh also does not change our conclusion that a grant of a writ of\\nreview does not alter the binding effect of an en banc decision on all Appeals Board panels and\\nWCIs.Of course, if an appellate court “stay or suspend the operation” of an en banc\\ndecision under section 5956 ,° then the binding effect of the en banc\\ndecision on Appeals Board panels and WCJs is also stayed or suspended — at least until the\\nsuspension or stay order is lifted.Also, if an appellate court issues an opinion that explicitly or implicitly overrules an en\\nbanc decision of the Appeals Board, then, under the principle of stare decisis, the Court’s\\ndecision is controlling and the en banc decision no longer can be followed by the Appeals Board\\nor any WCJ.  57 Cal.2d 450, 455; Escobedo v.\\nMarshalls  70 Cal.Comp.Cases 604, 609, fn. 4 .) There may be\\nsome exceptions to this standard principle (e.g., when an en banc decision is only partially\\noverruled, or where it is indirectly overruled in a non-published appellate opinion), however, we\\nneed not and will not address any such scenarios here./i/\\n/i/For the foregoing reasons,Section 6000 states:“The operation of any order, decision, or award of the appeals board under the provisions\\nof this division or any judgment entered thereon, shall not at any time be stayed by the\\ncourt to which petition is made for a writ of review, unless an undertaking is executed on\\nthe part of the petitioner.”DIGGLE, WILMA 7  \\n\\x0c 20)2122232425)2627  IT IS ORDERED that applicant’s Petition for Reconsideration, filed September 14,2005, be, and it is hereby, DENIED.WORKERS’ COMPENSATION APPEALS BOARD/s/ William K. O’BrienI CONCUR,/s/ Merle C. Rabine/s/ James C. CuneoDATED AND FILED AT SAN FRANCISCO, CALIFORNIA\\nOctober 7, 2005\\nSERVICE BY MAIL ON SAID DATE TO ALL PARTIES AS SHOWNON THE OFFICIAL ADDRESS RECORD, EXCEPT LIEN CLAIMANTS.nps/edDIGGLE, WILMA 8  \\n\\x0c'"
      ]
     },
     "execution_count": 227,
     "metadata": {},
     "output_type": "execute_result"
    }
   ],
   "source": [
    "split_sent = listToString(split_sent)\n",
    "split_sent"
   ]
  },
  {
   "cell_type": "markdown",
   "id": "60245e55-bbba-4ea0-a148-e63c5e773feb",
   "metadata": {},
   "source": [
    "## Method 1"
   ]
  },
  {
   "cell_type": "code",
   "execution_count": 228,
   "id": "59500b51-3b48-47b3-b402-4d894c49228c",
   "metadata": {},
   "outputs": [
    {
     "data": {
      "text/plain": [
       "'def find_references(text):\\n    \\n    references = []\\n    \\n    # spacy doc\\n    doc = nlp(text)\\n    \\n    # pattern\\n    pattern = [{\\'IS_TITLE\\': \\'NN\\'},\\n                {\\'LOWER\\':\\'v.\\'},\\n               {\\'IS_PUNCT\\': True}, \\n              {\\'POS\\':\\'ADP\\',\\'OP\\':\\'?\\'},\\n              {\\'POS\\':\\'PROPN\\'}]\\n                \\n    # Matcher class object \\n    matcher = Matcher(nlp.vocab) \\n    matcher.add(\"references\", [pattern]) \\n\\n    matches = matcher(doc)\\n\\n    # finding patterns in the text\\n    for i in range(0,len(matches)):\\n        \\n        # match: id, start, end\\n        token = doc[matches[i][1]:matches[i][2]]\\n        # append token to list\\n        references.append(str(token))\\n    return references\\n # Only keep sentences containing Indian PMs\\n    for name in names:\\n        if (name.split()[2] == \\'of\\') and (name.split()[3] != \"India\"):\\n                names.remove(name)\\n            '"
      ]
     },
     "execution_count": 228,
     "metadata": {},
     "output_type": "execute_result"
    }
   ],
   "source": [
    "'''def find_references(text):\n",
    "    \n",
    "    references = []\n",
    "    \n",
    "    # spacy doc\n",
    "    doc = nlp(text)\n",
    "    \n",
    "    # pattern\n",
    "    pattern = [{'IS_TITLE': 'NN'},\n",
    "                {'LOWER':'v.'},\n",
    "               {'IS_PUNCT': True}, \n",
    "              {'POS':'ADP','OP':'?'},\n",
    "              {'POS':'PROPN'}]\n",
    "                \n",
    "    # Matcher class object \n",
    "    matcher = Matcher(nlp.vocab) \n",
    "    matcher.add(\"references\", [pattern]) \n",
    "\n",
    "    matches = matcher(doc)\n",
    "\n",
    "    # finding patterns in the text\n",
    "    for i in range(0,len(matches)):\n",
    "        \n",
    "        # match: id, start, end\n",
    "        token = doc[matches[i][1]:matches[i][2]]\n",
    "        # append token to list\n",
    "        references.append(str(token))\n",
    "    return references\n",
    " # Only keep sentences containing Indian PMs\n",
    "    for name in names:\n",
    "        if (name.split()[2] == 'of') and (name.split()[3] != \"India\"):\n",
    "                names.remove(name)\n",
    "            '''"
   ]
  },
  {
   "cell_type": "code",
   "execution_count": 229,
   "id": "3ba25672-ef38-4267-ac64-da600f98dc88",
   "metadata": {},
   "outputs": [],
   "source": [
    "#ref =  find_references(split_sent)"
   ]
  },
  {
   "cell_type": "markdown",
   "id": "052a77d0-60de-4912-8279-8466bea7a3a7",
   "metadata": {},
   "source": [
    "## Method 2"
   ]
  },
  {
   "cell_type": "code",
   "execution_count": 230,
   "id": "75b1aede-6d18-429b-966d-bb0c342e59b6",
   "metadata": {},
   "outputs": [],
   "source": [
    "def patt_sent(text):  \n",
    "    patterns = [r'\\b(?i)'+'v.'+r'\\b',\n",
    "               r'\\b(?i)'+'Bd.'+r'\\b',\n",
    "               r'\\b(?i)'+'Cal.'+r'\\b']\n",
    "              \n",
    "    output = []\n",
    "    flag = 0\n",
    "    for pat in patterns:\n",
    "        if re.search(pat, text) != None:\n",
    "            flag = 1\n",
    "            break\n",
    "    return flag "
   ]
  },
  {
   "cell_type": "code",
   "execution_count": 231,
   "id": "75351405-efee-43e5-892b-d8965f0874be",
   "metadata": {},
   "outputs": [],
   "source": [
    "patt_sent = patt_sent(split_sent)"
   ]
  },
  {
   "cell_type": "code",
   "execution_count": 232,
   "id": "876adc6d-e16f-4ad6-85af-2e1a135dfc2b",
   "metadata": {},
   "outputs": [
    {
     "data": {
      "text/plain": [
       "1"
      ]
     },
     "execution_count": 232,
     "metadata": {},
     "output_type": "execute_result"
    }
   ],
   "source": [
    "patt_sent"
   ]
  },
  {
   "cell_type": "code",
   "execution_count": 222,
   "id": "a1f89ab9-e217-4e28-bd7b-2a9a2aaf3660",
   "metadata": {},
   "outputs": [],
   "source": [
    "def all_ref(text,check):\n",
    "    \n",
    "    references = []\n",
    "    \n",
    "    doc = nlp(split_sent)\n",
    "    \n",
    "    # initiatives\n",
    "    ref_list = ['v.','Appeals','Cal.','Bd.']\n",
    "    \n",
    "    # pattern to match initiatives names \n",
    "    pattern = [{'POS':'DET'},\n",
    "               {'POS':'PROPN','DEP':'compound'},\n",
    "               {'POS':'PROPN','DEP':'compound'},\n",
    "               {'POS':'PROPN','OP':'?'},\n",
    "               {'POS':'PROPN','OP':'?'},\n",
    "               {'POS':'PROPN','OP':'?'},\n",
    "               {'LOWER':{'IN':ref_list},'OP':'+'}\n",
    "              ]\n",
    "    \n",
    "    if check == 0:\n",
    "        # return blank list\n",
    "        return references\n",
    "\n",
    "    # Matcher class object \n",
    "    matcher = Matcher(nlp.vocab) \n",
    "    matcher.add(\"matching\", [pattern]) \n",
    "    matches = matcher(doc)\n",
    "\n",
    "    for i in range(0,len(matches)):\n",
    "        \n",
    "        # match: id, start, end\n",
    "        start, end = matches[i][1], matches[i][2]\n",
    "        \n",
    "        if doc[start].pos_=='DET':\n",
    "            start = start+1\n",
    "        \n",
    "        # matched string\n",
    "        span = str(doc[start:end])\n",
    "        \n",
    "        if (len(references)!=0) and (references[-1] in span):\n",
    "            references[-1] = span\n",
    "        else:\n",
    "            references.append(span)\n",
    "        \n",
    "    return references"
   ]
  },
  {
   "cell_type": "code",
   "execution_count": 223,
   "id": "64b5b245-11e9-4f0c-aa3b-37048070f86f",
   "metadata": {},
   "outputs": [],
   "source": [
    "all_ref1= all_ref(split_sent,1)"
   ]
  },
  {
   "cell_type": "code",
   "execution_count": 224,
   "id": "e6a3ebaa-00e0-4bdf-b7f3-78ae6c01172f",
   "metadata": {},
   "outputs": [
    {
     "data": {
      "text/plain": [
       "[]"
      ]
     },
     "execution_count": 224,
     "metadata": {},
     "output_type": "execute_result"
    }
   ],
   "source": [
    "all_ref1"
   ]
  },
  {
   "cell_type": "code",
   "execution_count": 65,
   "id": "6e46b032-b21a-4675-8568-17b27d9c8005",
   "metadata": {},
   "outputs": [
    {
     "data": {
      "text/plain": [
       "'for segment in text:\\n    segment= segment.strip()\\n    segment.replace(\"\\n\",\" \")\\n    print(segment)\\n    words = segment.split()\\n    print(words)'"
      ]
     },
     "execution_count": 65,
     "metadata": {},
     "output_type": "execute_result"
    }
   ],
   "source": [
    "'''for segment in text:\n",
    "    segment= segment.strip()\n",
    "    segment.replace(\"\\n\",\" \")\n",
    "    print(segment)\n",
    "    words = segment.split()\n",
    "    print(words)'''"
   ]
  },
  {
   "cell_type": "code",
   "execution_count": 67,
   "id": "8a0b9654-31f8-4afb-b77b-f0df23b4699d",
   "metadata": {},
   "outputs": [
    {
     "data": {
      "text/plain": [
       "\"from spacy.matcher import Matcher\\nm_tool = Matcher(nlp.vocab)\\n\\ndoc = open(file='9.txt', mode='r', encoding='utf-8').read()\\n#print(text)\\nprint(doc)\\n\""
      ]
     },
     "execution_count": 67,
     "metadata": {},
     "output_type": "execute_result"
    }
   ],
   "source": [
    "'''from spacy.matcher import Matcher\n",
    "m_tool = Matcher(nlp.vocab)\n",
    "\n",
    "doc = open(file='9.txt', mode='r', encoding='utf-8').read()\n",
    "#print(text)\n",
    "print(doc)\n",
    "'''\n"
   ]
  },
  {
   "cell_type": "code",
   "execution_count": 68,
   "id": "614e8b9d-2da6-41bb-a1e3-51150081c9f7",
   "metadata": {},
   "outputs": [],
   "source": [
    "#import re"
   ]
  },
  {
   "cell_type": "code",
   "execution_count": 110,
   "id": "8857b445-3ed3-4124-8921-1e28e9fe3070",
   "metadata": {},
   "outputs": [
    {
     "name": "stdout",
     "output_type": "stream",
     "text": [
      "Braewood -> PROPN\n",
      "Convalescent -> PROPN\n",
      "Hospital -> PROPN\n",
      "v. -> ADP\n",
      "Workers -> PROPN\n",
      "' -> PART\n",
      "Comp -> PROPN\n",
      ". -> PUNCT\n",
      "Appeals -> PROPN\n",
      "Bd -> PROPN\n",
      ". -> PUNCT\n",
      "( -> PUNCT\n",
      "Bolton -> PROPN\n",
      ") -> PUNCT\n",
      "( -> PUNCT\n",
      "1983 -> NUM\n",
      ") -> PUNCT\n",
      "34 -> NUM\n",
      "Cal.3d -> NOUN\n",
      "159 -> NUM\n",
      ", -> PUNCT\n",
      "169 -> NUM\n",
      "[ -> X\n",
      "48 -> NUM\n",
      "Cal -> PROPN\n",
      ". -> PUNCT\n",
      "Comp -> NOUN\n",
      ". -> PUNCT\n",
      "Cases -> NOUN\n",
      "566 -> NUM\n",
      "] -> PUNCT\n"
     ]
    },
    {
     "data": {
      "text/html": [
       "<span class=\"tex2jax_ignore\"><svg xmlns=\"http://www.w3.org/2000/svg\" xmlns:xlink=\"http://www.w3.org/1999/xlink\" xml:lang=\"en\" id=\"71a2facb7ba24260a7abfffcf72b8c89-0\" class=\"displacy\" width=\"3375\" height=\"487.0\" direction=\"ltr\" style=\"max-width: none; height: 487.0px; color: #000000; background: #ffffff; font-family: Arial; direction: ltr\">\n",
       "<text class=\"displacy-token\" fill=\"currentColor\" text-anchor=\"middle\" y=\"397.0\">\n",
       "    <tspan class=\"displacy-word\" fill=\"currentColor\" x=\"50\">Braewood</tspan>\n",
       "    <tspan class=\"displacy-tag\" dy=\"2em\" fill=\"currentColor\" x=\"50\">PROPN</tspan>\n",
       "</text>\n",
       "\n",
       "<text class=\"displacy-token\" fill=\"currentColor\" text-anchor=\"middle\" y=\"397.0\">\n",
       "    <tspan class=\"displacy-word\" fill=\"currentColor\" x=\"225\">Convalescent</tspan>\n",
       "    <tspan class=\"displacy-tag\" dy=\"2em\" fill=\"currentColor\" x=\"225\">PROPN</tspan>\n",
       "</text>\n",
       "\n",
       "<text class=\"displacy-token\" fill=\"currentColor\" text-anchor=\"middle\" y=\"397.0\">\n",
       "    <tspan class=\"displacy-word\" fill=\"currentColor\" x=\"400\">Hospital</tspan>\n",
       "    <tspan class=\"displacy-tag\" dy=\"2em\" fill=\"currentColor\" x=\"400\">PROPN</tspan>\n",
       "</text>\n",
       "\n",
       "<text class=\"displacy-token\" fill=\"currentColor\" text-anchor=\"middle\" y=\"397.0\">\n",
       "    <tspan class=\"displacy-word\" fill=\"currentColor\" x=\"575\">v.</tspan>\n",
       "    <tspan class=\"displacy-tag\" dy=\"2em\" fill=\"currentColor\" x=\"575\">ADP</tspan>\n",
       "</text>\n",
       "\n",
       "<text class=\"displacy-token\" fill=\"currentColor\" text-anchor=\"middle\" y=\"397.0\">\n",
       "    <tspan class=\"displacy-word\" fill=\"currentColor\" x=\"750\">Workers'</tspan>\n",
       "    <tspan class=\"displacy-tag\" dy=\"2em\" fill=\"currentColor\" x=\"750\">PROPN</tspan>\n",
       "</text>\n",
       "\n",
       "<text class=\"displacy-token\" fill=\"currentColor\" text-anchor=\"middle\" y=\"397.0\">\n",
       "    <tspan class=\"displacy-word\" fill=\"currentColor\" x=\"925\">Comp.</tspan>\n",
       "    <tspan class=\"displacy-tag\" dy=\"2em\" fill=\"currentColor\" x=\"925\">PROPN</tspan>\n",
       "</text>\n",
       "\n",
       "<text class=\"displacy-token\" fill=\"currentColor\" text-anchor=\"middle\" y=\"397.0\">\n",
       "    <tspan class=\"displacy-word\" fill=\"currentColor\" x=\"1100\">Appeals</tspan>\n",
       "    <tspan class=\"displacy-tag\" dy=\"2em\" fill=\"currentColor\" x=\"1100\">PROPN</tspan>\n",
       "</text>\n",
       "\n",
       "<text class=\"displacy-token\" fill=\"currentColor\" text-anchor=\"middle\" y=\"397.0\">\n",
       "    <tspan class=\"displacy-word\" fill=\"currentColor\" x=\"1275\">Bd. (</tspan>\n",
       "    <tspan class=\"displacy-tag\" dy=\"2em\" fill=\"currentColor\" x=\"1275\">PROPN</tspan>\n",
       "</text>\n",
       "\n",
       "<text class=\"displacy-token\" fill=\"currentColor\" text-anchor=\"middle\" y=\"397.0\">\n",
       "    <tspan class=\"displacy-word\" fill=\"currentColor\" x=\"1450\">Bolton) (</tspan>\n",
       "    <tspan class=\"displacy-tag\" dy=\"2em\" fill=\"currentColor\" x=\"1450\">PROPN</tspan>\n",
       "</text>\n",
       "\n",
       "<text class=\"displacy-token\" fill=\"currentColor\" text-anchor=\"middle\" y=\"397.0\">\n",
       "    <tspan class=\"displacy-word\" fill=\"currentColor\" x=\"1625\">1983)</tspan>\n",
       "    <tspan class=\"displacy-tag\" dy=\"2em\" fill=\"currentColor\" x=\"1625\">NUM</tspan>\n",
       "</text>\n",
       "\n",
       "<text class=\"displacy-token\" fill=\"currentColor\" text-anchor=\"middle\" y=\"397.0\">\n",
       "    <tspan class=\"displacy-word\" fill=\"currentColor\" x=\"1800\">34</tspan>\n",
       "    <tspan class=\"displacy-tag\" dy=\"2em\" fill=\"currentColor\" x=\"1800\">NUM</tspan>\n",
       "</text>\n",
       "\n",
       "<text class=\"displacy-token\" fill=\"currentColor\" text-anchor=\"middle\" y=\"397.0\">\n",
       "    <tspan class=\"displacy-word\" fill=\"currentColor\" x=\"1975\">Cal.3d</tspan>\n",
       "    <tspan class=\"displacy-tag\" dy=\"2em\" fill=\"currentColor\" x=\"1975\">NOUN</tspan>\n",
       "</text>\n",
       "\n",
       "<text class=\"displacy-token\" fill=\"currentColor\" text-anchor=\"middle\" y=\"397.0\">\n",
       "    <tspan class=\"displacy-word\" fill=\"currentColor\" x=\"2150\">159,</tspan>\n",
       "    <tspan class=\"displacy-tag\" dy=\"2em\" fill=\"currentColor\" x=\"2150\">NUM</tspan>\n",
       "</text>\n",
       "\n",
       "<text class=\"displacy-token\" fill=\"currentColor\" text-anchor=\"middle\" y=\"397.0\">\n",
       "    <tspan class=\"displacy-word\" fill=\"currentColor\" x=\"2325\">169 [</tspan>\n",
       "    <tspan class=\"displacy-tag\" dy=\"2em\" fill=\"currentColor\" x=\"2325\">NUM</tspan>\n",
       "</text>\n",
       "\n",
       "<text class=\"displacy-token\" fill=\"currentColor\" text-anchor=\"middle\" y=\"397.0\">\n",
       "    <tspan class=\"displacy-word\" fill=\"currentColor\" x=\"2500\">48</tspan>\n",
       "    <tspan class=\"displacy-tag\" dy=\"2em\" fill=\"currentColor\" x=\"2500\">NUM</tspan>\n",
       "</text>\n",
       "\n",
       "<text class=\"displacy-token\" fill=\"currentColor\" text-anchor=\"middle\" y=\"397.0\">\n",
       "    <tspan class=\"displacy-word\" fill=\"currentColor\" x=\"2675\">Cal.</tspan>\n",
       "    <tspan class=\"displacy-tag\" dy=\"2em\" fill=\"currentColor\" x=\"2675\">PROPN</tspan>\n",
       "</text>\n",
       "\n",
       "<text class=\"displacy-token\" fill=\"currentColor\" text-anchor=\"middle\" y=\"397.0\">\n",
       "    <tspan class=\"displacy-word\" fill=\"currentColor\" x=\"2850\">Comp.</tspan>\n",
       "    <tspan class=\"displacy-tag\" dy=\"2em\" fill=\"currentColor\" x=\"2850\">NOUN</tspan>\n",
       "</text>\n",
       "\n",
       "<text class=\"displacy-token\" fill=\"currentColor\" text-anchor=\"middle\" y=\"397.0\">\n",
       "    <tspan class=\"displacy-word\" fill=\"currentColor\" x=\"3025\">Cases</tspan>\n",
       "    <tspan class=\"displacy-tag\" dy=\"2em\" fill=\"currentColor\" x=\"3025\">NOUN</tspan>\n",
       "</text>\n",
       "\n",
       "<text class=\"displacy-token\" fill=\"currentColor\" text-anchor=\"middle\" y=\"397.0\">\n",
       "    <tspan class=\"displacy-word\" fill=\"currentColor\" x=\"3200\">566]</tspan>\n",
       "    <tspan class=\"displacy-tag\" dy=\"2em\" fill=\"currentColor\" x=\"3200\">NUM</tspan>\n",
       "</text>\n",
       "\n",
       "<g class=\"displacy-arrow\">\n",
       "    <path class=\"displacy-arc\" id=\"arrow-71a2facb7ba24260a7abfffcf72b8c89-0-0\" stroke-width=\"2px\" d=\"M70,352.0 C70,264.5 210.0,264.5 210.0,352.0\" fill=\"none\" stroke=\"currentColor\"/>\n",
       "    <text dy=\"1.25em\" style=\"font-size: 0.8em; letter-spacing: 1px\">\n",
       "        <textPath xlink:href=\"#arrow-71a2facb7ba24260a7abfffcf72b8c89-0-0\" class=\"displacy-label\" startOffset=\"50%\" side=\"left\" fill=\"currentColor\" text-anchor=\"middle\">compound</textPath>\n",
       "    </text>\n",
       "    <path class=\"displacy-arrowhead\" d=\"M70,354.0 L62,342.0 78,342.0\" fill=\"currentColor\"/>\n",
       "</g>\n",
       "\n",
       "<g class=\"displacy-arrow\">\n",
       "    <path class=\"displacy-arc\" id=\"arrow-71a2facb7ba24260a7abfffcf72b8c89-0-1\" stroke-width=\"2px\" d=\"M245,352.0 C245,264.5 385.0,264.5 385.0,352.0\" fill=\"none\" stroke=\"currentColor\"/>\n",
       "    <text dy=\"1.25em\" style=\"font-size: 0.8em; letter-spacing: 1px\">\n",
       "        <textPath xlink:href=\"#arrow-71a2facb7ba24260a7abfffcf72b8c89-0-1\" class=\"displacy-label\" startOffset=\"50%\" side=\"left\" fill=\"currentColor\" text-anchor=\"middle\">compound</textPath>\n",
       "    </text>\n",
       "    <path class=\"displacy-arrowhead\" d=\"M245,354.0 L237,342.0 253,342.0\" fill=\"currentColor\"/>\n",
       "</g>\n",
       "\n",
       "<g class=\"displacy-arrow\">\n",
       "    <path class=\"displacy-arc\" id=\"arrow-71a2facb7ba24260a7abfffcf72b8c89-0-2\" stroke-width=\"2px\" d=\"M420,352.0 C420,264.5 560.0,264.5 560.0,352.0\" fill=\"none\" stroke=\"currentColor\"/>\n",
       "    <text dy=\"1.25em\" style=\"font-size: 0.8em; letter-spacing: 1px\">\n",
       "        <textPath xlink:href=\"#arrow-71a2facb7ba24260a7abfffcf72b8c89-0-2\" class=\"displacy-label\" startOffset=\"50%\" side=\"left\" fill=\"currentColor\" text-anchor=\"middle\">prep</textPath>\n",
       "    </text>\n",
       "    <path class=\"displacy-arrowhead\" d=\"M560.0,354.0 L568.0,342.0 552.0,342.0\" fill=\"currentColor\"/>\n",
       "</g>\n",
       "\n",
       "<g class=\"displacy-arrow\">\n",
       "    <path class=\"displacy-arc\" id=\"arrow-71a2facb7ba24260a7abfffcf72b8c89-0-3\" stroke-width=\"2px\" d=\"M770,352.0 C770,264.5 910.0,264.5 910.0,352.0\" fill=\"none\" stroke=\"currentColor\"/>\n",
       "    <text dy=\"1.25em\" style=\"font-size: 0.8em; letter-spacing: 1px\">\n",
       "        <textPath xlink:href=\"#arrow-71a2facb7ba24260a7abfffcf72b8c89-0-3\" class=\"displacy-label\" startOffset=\"50%\" side=\"left\" fill=\"currentColor\" text-anchor=\"middle\">poss</textPath>\n",
       "    </text>\n",
       "    <path class=\"displacy-arrowhead\" d=\"M770,354.0 L762,342.0 778,342.0\" fill=\"currentColor\"/>\n",
       "</g>\n",
       "\n",
       "<g class=\"displacy-arrow\">\n",
       "    <path class=\"displacy-arc\" id=\"arrow-71a2facb7ba24260a7abfffcf72b8c89-0-4\" stroke-width=\"2px\" d=\"M420,352.0 C420,177.0 915.0,177.0 915.0,352.0\" fill=\"none\" stroke=\"currentColor\"/>\n",
       "    <text dy=\"1.25em\" style=\"font-size: 0.8em; letter-spacing: 1px\">\n",
       "        <textPath xlink:href=\"#arrow-71a2facb7ba24260a7abfffcf72b8c89-0-4\" class=\"displacy-label\" startOffset=\"50%\" side=\"left\" fill=\"currentColor\" text-anchor=\"middle\">conj</textPath>\n",
       "    </text>\n",
       "    <path class=\"displacy-arrowhead\" d=\"M915.0,354.0 L923.0,342.0 907.0,342.0\" fill=\"currentColor\"/>\n",
       "</g>\n",
       "\n",
       "<g class=\"displacy-arrow\">\n",
       "    <path class=\"displacy-arc\" id=\"arrow-71a2facb7ba24260a7abfffcf72b8c89-0-5\" stroke-width=\"2px\" d=\"M1120,352.0 C1120,264.5 1260.0,264.5 1260.0,352.0\" fill=\"none\" stroke=\"currentColor\"/>\n",
       "    <text dy=\"1.25em\" style=\"font-size: 0.8em; letter-spacing: 1px\">\n",
       "        <textPath xlink:href=\"#arrow-71a2facb7ba24260a7abfffcf72b8c89-0-5\" class=\"displacy-label\" startOffset=\"50%\" side=\"left\" fill=\"currentColor\" text-anchor=\"middle\">compound</textPath>\n",
       "    </text>\n",
       "    <path class=\"displacy-arrowhead\" d=\"M1120,354.0 L1112,342.0 1128,342.0\" fill=\"currentColor\"/>\n",
       "</g>\n",
       "\n",
       "<g class=\"displacy-arrow\">\n",
       "    <path class=\"displacy-arc\" id=\"arrow-71a2facb7ba24260a7abfffcf72b8c89-0-6\" stroke-width=\"2px\" d=\"M1470,352.0 C1470,264.5 1610.0,264.5 1610.0,352.0\" fill=\"none\" stroke=\"currentColor\"/>\n",
       "    <text dy=\"1.25em\" style=\"font-size: 0.8em; letter-spacing: 1px\">\n",
       "        <textPath xlink:href=\"#arrow-71a2facb7ba24260a7abfffcf72b8c89-0-6\" class=\"displacy-label\" startOffset=\"50%\" side=\"left\" fill=\"currentColor\" text-anchor=\"middle\">appos</textPath>\n",
       "    </text>\n",
       "    <path class=\"displacy-arrowhead\" d=\"M1610.0,354.0 L1618.0,342.0 1602.0,342.0\" fill=\"currentColor\"/>\n",
       "</g>\n",
       "\n",
       "<g class=\"displacy-arrow\">\n",
       "    <path class=\"displacy-arc\" id=\"arrow-71a2facb7ba24260a7abfffcf72b8c89-0-7\" stroke-width=\"2px\" d=\"M1820,352.0 C1820,264.5 1960.0,264.5 1960.0,352.0\" fill=\"none\" stroke=\"currentColor\"/>\n",
       "    <text dy=\"1.25em\" style=\"font-size: 0.8em; letter-spacing: 1px\">\n",
       "        <textPath xlink:href=\"#arrow-71a2facb7ba24260a7abfffcf72b8c89-0-7\" class=\"displacy-label\" startOffset=\"50%\" side=\"left\" fill=\"currentColor\" text-anchor=\"middle\">cc</textPath>\n",
       "    </text>\n",
       "    <path class=\"displacy-arrowhead\" d=\"M1960.0,354.0 L1968.0,342.0 1952.0,342.0\" fill=\"currentColor\"/>\n",
       "</g>\n",
       "\n",
       "<g class=\"displacy-arrow\">\n",
       "    <path class=\"displacy-arc\" id=\"arrow-71a2facb7ba24260a7abfffcf72b8c89-0-8\" stroke-width=\"2px\" d=\"M1820,352.0 C1820,177.0 2140.0,177.0 2140.0,352.0\" fill=\"none\" stroke=\"currentColor\"/>\n",
       "    <text dy=\"1.25em\" style=\"font-size: 0.8em; letter-spacing: 1px\">\n",
       "        <textPath xlink:href=\"#arrow-71a2facb7ba24260a7abfffcf72b8c89-0-8\" class=\"displacy-label\" startOffset=\"50%\" side=\"left\" fill=\"currentColor\" text-anchor=\"middle\">conj</textPath>\n",
       "    </text>\n",
       "    <path class=\"displacy-arrowhead\" d=\"M2140.0,354.0 L2148.0,342.0 2132.0,342.0\" fill=\"currentColor\"/>\n",
       "</g>\n",
       "\n",
       "<g class=\"displacy-arrow\">\n",
       "    <path class=\"displacy-arc\" id=\"arrow-71a2facb7ba24260a7abfffcf72b8c89-0-9\" stroke-width=\"2px\" d=\"M1820,352.0 C1820,89.5 2320.0,89.5 2320.0,352.0\" fill=\"none\" stroke=\"currentColor\"/>\n",
       "    <text dy=\"1.25em\" style=\"font-size: 0.8em; letter-spacing: 1px\">\n",
       "        <textPath xlink:href=\"#arrow-71a2facb7ba24260a7abfffcf72b8c89-0-9\" class=\"displacy-label\" startOffset=\"50%\" side=\"left\" fill=\"currentColor\" text-anchor=\"middle\">appos</textPath>\n",
       "    </text>\n",
       "    <path class=\"displacy-arrowhead\" d=\"M2320.0,354.0 L2328.0,342.0 2312.0,342.0\" fill=\"currentColor\"/>\n",
       "</g>\n",
       "\n",
       "<g class=\"displacy-arrow\">\n",
       "    <path class=\"displacy-arc\" id=\"arrow-71a2facb7ba24260a7abfffcf72b8c89-0-10\" stroke-width=\"2px\" d=\"M2520,352.0 C2520,264.5 2660.0,264.5 2660.0,352.0\" fill=\"none\" stroke=\"currentColor\"/>\n",
       "    <text dy=\"1.25em\" style=\"font-size: 0.8em; letter-spacing: 1px\">\n",
       "        <textPath xlink:href=\"#arrow-71a2facb7ba24260a7abfffcf72b8c89-0-10\" class=\"displacy-label\" startOffset=\"50%\" side=\"left\" fill=\"currentColor\" text-anchor=\"middle\">nummod</textPath>\n",
       "    </text>\n",
       "    <path class=\"displacy-arrowhead\" d=\"M2520,354.0 L2512,342.0 2528,342.0\" fill=\"currentColor\"/>\n",
       "</g>\n",
       "\n",
       "<g class=\"displacy-arrow\">\n",
       "    <path class=\"displacy-arc\" id=\"arrow-71a2facb7ba24260a7abfffcf72b8c89-0-11\" stroke-width=\"2px\" d=\"M1820,352.0 C1820,2.0 2675.0,2.0 2675.0,352.0\" fill=\"none\" stroke=\"currentColor\"/>\n",
       "    <text dy=\"1.25em\" style=\"font-size: 0.8em; letter-spacing: 1px\">\n",
       "        <textPath xlink:href=\"#arrow-71a2facb7ba24260a7abfffcf72b8c89-0-11\" class=\"displacy-label\" startOffset=\"50%\" side=\"left\" fill=\"currentColor\" text-anchor=\"middle\">appos</textPath>\n",
       "    </text>\n",
       "    <path class=\"displacy-arrowhead\" d=\"M2675.0,354.0 L2683.0,342.0 2667.0,342.0\" fill=\"currentColor\"/>\n",
       "</g>\n",
       "\n",
       "<g class=\"displacy-arrow\">\n",
       "    <path class=\"displacy-arc\" id=\"arrow-71a2facb7ba24260a7abfffcf72b8c89-0-12\" stroke-width=\"2px\" d=\"M3045,352.0 C3045,264.5 3185.0,264.5 3185.0,352.0\" fill=\"none\" stroke=\"currentColor\"/>\n",
       "    <text dy=\"1.25em\" style=\"font-size: 0.8em; letter-spacing: 1px\">\n",
       "        <textPath xlink:href=\"#arrow-71a2facb7ba24260a7abfffcf72b8c89-0-12\" class=\"displacy-label\" startOffset=\"50%\" side=\"left\" fill=\"currentColor\" text-anchor=\"middle\">nummod</textPath>\n",
       "    </text>\n",
       "    <path class=\"displacy-arrowhead\" d=\"M3185.0,354.0 L3193.0,342.0 3177.0,342.0\" fill=\"currentColor\"/>\n",
       "</g>\n",
       "</svg></span>"
      ],
      "text/plain": [
       "<IPython.core.display.HTML object>"
      ]
     },
     "metadata": {},
     "output_type": "display_data"
    }
   ],
   "source": [
    "import spacy\n",
    "\n",
    "# load english language model\n",
    "\n",
    "nlp = spacy.load('en_core_web_sm',disable=['ner','textcat'])\n",
    "\n",
    "tet =  (\"Braewood Convalescent Hospital v. Workers' Comp. Appeals Bd. (Bolton) (1983) 34 Cal.3d 159, 169 [48 Cal.Comp.Cases 566]\")\n",
    "\n",
    "# create spacy \n",
    "\n",
    "doc = nlp(tet)\n",
    "\n",
    "for token in doc:\n",
    "    print(token.text,'->',token.pos_)\n",
    "    \n",
    "from spacy import displacy \n",
    "displacy.render(doc, style='dep',jupyter=True)\n",
    "            "
   ]
  },
  {
   "cell_type": "code",
   "execution_count": 207,
   "id": "c687e12b-4998-4e08-9212-a281e9d83b80",
   "metadata": {},
   "outputs": [],
   "source": [
    "\n",
    "p1 = [{'IS_TITLE': 'NN'}, {'LOWER': 'v'}, {'IS_PUNCT': True}, {'IS_TITLE': 'NN'}]\n",
    "p2 = [{'IS_TITLE': 'NN'}, {'IS_TITLE': 'NN'}, {'LOWER': 'v'}, {'IS_PUNCT': True}, \n",
    "{'IS_TITLE': 'NN'}]\n",
    "p3 = [{'IS_TITLE': 'NN'}, {'LOWER': 'v'}, {'IS_PUNCT': True}, {'IS_TITLE': 'NN'}, \n",
    "{'IS_TITLE': 'NN'},]\n",
    "p4 = [{'IS_TITLE': 'NN'}, {'IS_TITLE': 'NN'}, {'LOWER': 'v'}, {'IS_PUNCT': True}, \n",
    "{'IS_TITLE': 'NN'}, {'IS_TITLE': 'NN'}]\n",
    "p5 = [{'IS_TITLE': 'NN'}, {'IS_TITLE': 'NN'}, {'IS_TITLE': 'NN'}, {'LOWER': 'v.'}, \n",
    "{'IS_PUNCT': True}, {'IS_TITLE': 'NN'}, {'IS_TITLE': 'NN'}, {'IS_TITLE': 'NN'}]\n",
    "p6 = [{'IS_TITLE': 'NN'}, {'IS_TITLE': 'NN'}, {'LOWER': 'v.'}, {'IS_PUNCT': True}, \n",
    "{'IS_TITLE': 'NN'}, {'IS_TITLE': 'NN'}, {'IS_TITLE': 'NN'}]\n",
    "p7 = [{'IS_TITLE': 'NN'}, {'LOWER': 'v.'}, {'IS_PUNCT': True}, {'IS_TITLE': 'NN'}, \n",
    "{'IS_TITLE': 'NN'}, {'IS_TITLE': 'NN'}]\n",
    "p8 = [{'IS_TITLE': 'NN'}, {'IS_TITLE': 'NN'}, {'IS_TITLE': 'NN'}, {'LOWER': 'v.'}, \n",
    "{'IS_PUNCT': True}, {'IS_TITLE': 'NN'}]\n",
    "p9 = [{'IS_TITLE': 'NN'}, {'IS_TITLE': 'NN'}, {'IS_TITLE': 'NN'}, {'LOWER': 'v.'}, \n",
    "{'IS_PUNCT': True}, {'IS_TITLE': 'NN'}, {'IS_TITLE': 'NN'}]\n",
    "p10 = [{'label': 'PERSON'}]\n",
    "p11 = [{'label': 'ORG'}, {'label': 'PERSON'}]\n",
    "p12 = [{'label': 'PERSON'}, {'label': 'ORG'}]\n",
    "p13 = [{'label': 'ORG'}, {'label': 'ORG'}, {'label': 'ORG'}, {'label': 'ORG'}]\n"
   ]
  },
  {
   "cell_type": "code",
   "execution_count": 208,
   "id": "4d284127-02b5-4e47-866e-921fecdd1606",
   "metadata": {},
   "outputs": [
    {
     "ename": "MatchPatternError",
     "evalue": "Invalid token patterns for matcher rule 'QBF'\n\nPattern 0:\n- [pattern -> 0 -> IS_TITLE] value is not a valid boolean\n- [pattern -> 3 -> IS_TITLE] value is not a valid boolean\n\nPattern 1:\n- [pattern -> 0 -> IS_TITLE] value is not a valid boolean\n- [pattern -> 1 -> IS_TITLE] value is not a valid boolean\n- [pattern -> 4 -> IS_TITLE] value is not a valid boolean\n\nPattern 2:\n- [pattern -> 0 -> IS_TITLE] value is not a valid boolean\n- [pattern -> 3 -> IS_TITLE] value is not a valid boolean\n- [pattern -> 4 -> IS_TITLE] value is not a valid boolean\n\nPattern 3:\n- [pattern -> 0 -> IS_TITLE] value is not a valid boolean\n- [pattern -> 1 -> IS_TITLE] value is not a valid boolean\n- [pattern -> 4 -> IS_TITLE] value is not a valid boolean\n- [pattern -> 5 -> IS_TITLE] value is not a valid boolean\n\nPattern 4:\n- [pattern -> 0 -> IS_TITLE] value is not a valid boolean\n- [pattern -> 1 -> IS_TITLE] value is not a valid boolean\n- [pattern -> 2 -> IS_TITLE] value is not a valid boolean\n- [pattern -> 5 -> IS_TITLE] value is not a valid boolean\n- [pattern -> 6 -> IS_TITLE] value is not a valid boolean\n- [pattern -> 7 -> IS_TITLE] value is not a valid boolean\n\nPattern 5:\n- [pattern -> 0 -> IS_TITLE] value is not a valid boolean\n- [pattern -> 1 -> IS_TITLE] value is not a valid boolean\n- [pattern -> 4 -> IS_TITLE] value is not a valid boolean\n- [pattern -> 5 -> IS_TITLE] value is not a valid boolean\n- [pattern -> 6 -> IS_TITLE] value is not a valid boolean\n\nPattern 6:\n- [pattern -> 0 -> IS_TITLE] value is not a valid boolean\n- [pattern -> 1 -> IS_TITLE] value is not a valid boolean\n- [pattern -> 4 -> IS_TITLE] value is not a valid boolean\n- [pattern -> 5 -> IS_TITLE] value is not a valid boolean\n- [pattern -> 6 -> IS_TITLE] value is not a valid boolean\n\nPattern 7:\n- [pattern -> 0 -> IS_TITLE] value is not a valid boolean\n- [pattern -> 3 -> IS_TITLE] value is not a valid boolean\n- [pattern -> 4 -> IS_TITLE] value is not a valid boolean\n- [pattern -> 5 -> IS_TITLE] value is not a valid boolean\n\nPattern 8:\n- [pattern -> 0 -> IS_TITLE] value is not a valid boolean\n- [pattern -> 1 -> IS_TITLE] value is not a valid boolean\n- [pattern -> 2 -> IS_TITLE] value is not a valid boolean\n- [pattern -> 5 -> IS_TITLE] value is not a valid boolean\n\nPattern 9:\n- [pattern -> 0 -> IS_TITLE] value is not a valid boolean\n- [pattern -> 1 -> IS_TITLE] value is not a valid boolean\n- [pattern -> 2 -> IS_TITLE] value is not a valid boolean\n- [pattern -> 5 -> IS_TITLE] value is not a valid boolean\n- [pattern -> 6 -> IS_TITLE] value is not a valid boolean\n\nPattern 10:\n- [pattern -> 0 -> label] extra fields not permitted\n\nPattern 11:\n- [pattern -> 0 -> label] extra fields not permitted\n- [pattern -> 1 -> label] extra fields not permitted\n\nPattern 12:\n- [pattern -> 0 -> label] extra fields not permitted\n- [pattern -> 1 -> label] extra fields not permitted\n\nPattern 13:\n- [pattern -> 0 -> label] extra fields not permitted\n- [pattern -> 1 -> label] extra fields not permitted\n- [pattern -> 2 -> label] extra fields not permitted\n- [pattern -> 3 -> label] extra fields not permitted\n",
     "output_type": "error",
     "traceback": [
      "\u001b[0;31m---------------------------------------------------------------------------\u001b[0m",
      "\u001b[0;31mMatchPatternError\u001b[0m                         Traceback (most recent call last)",
      "\u001b[0;32m/tmp/ipykernel_3520371/3641397100.py\u001b[0m in \u001b[0;36m<module>\u001b[0;34m\u001b[0m\n\u001b[1;32m      2\u001b[0m \u001b[0;31m#print([(ent.text, ent.label_) for ent in doc.ents])\u001b[0m\u001b[0;34m\u001b[0m\u001b[0;34m\u001b[0m\u001b[0;34m\u001b[0m\u001b[0m\n\u001b[1;32m      3\u001b[0m \u001b[0;34m\u001b[0m\u001b[0m\n\u001b[0;32m----> 4\u001b[0;31m \u001b[0mm_tool\u001b[0m\u001b[0;34m.\u001b[0m\u001b[0madd\u001b[0m\u001b[0;34m(\u001b[0m\u001b[0;34m'QBF'\u001b[0m\u001b[0;34m,\u001b[0m\u001b[0;34m[\u001b[0m\u001b[0mp1\u001b[0m\u001b[0;34m,\u001b[0m \u001b[0mp2\u001b[0m\u001b[0;34m,\u001b[0m \u001b[0mp3\u001b[0m\u001b[0;34m,\u001b[0m \u001b[0mp4\u001b[0m\u001b[0;34m,\u001b[0m \u001b[0mp5\u001b[0m\u001b[0;34m,\u001b[0m \u001b[0mp6\u001b[0m\u001b[0;34m,\u001b[0m \u001b[0mp6\u001b[0m\u001b[0;34m,\u001b[0m \u001b[0mp7\u001b[0m\u001b[0;34m,\u001b[0m \u001b[0mp8\u001b[0m\u001b[0;34m,\u001b[0m \u001b[0mp9\u001b[0m\u001b[0;34m,\u001b[0m \u001b[0mp10\u001b[0m\u001b[0;34m,\u001b[0m \u001b[0mp11\u001b[0m\u001b[0;34m,\u001b[0m \u001b[0mp12\u001b[0m\u001b[0;34m,\u001b[0m \u001b[0mp13\u001b[0m\u001b[0;34m]\u001b[0m\u001b[0;34m)\u001b[0m\u001b[0;34m\u001b[0m\u001b[0;34m\u001b[0m\u001b[0m\n\u001b[0m\u001b[1;32m      5\u001b[0m \u001b[0;34m\u001b[0m\u001b[0m\n\u001b[1;32m      6\u001b[0m \u001b[0mphrase_matches\u001b[0m \u001b[0;34m=\u001b[0m \u001b[0mm_tool\u001b[0m\u001b[0;34m(\u001b[0m\u001b[0mdoc\u001b[0m\u001b[0;34m)\u001b[0m\u001b[0;34m\u001b[0m\u001b[0;34m\u001b[0m\u001b[0m\n",
      "\u001b[0;32m/opt/conda/lib/python3.7/site-packages/spacy/matcher/matcher.pyx\u001b[0m in \u001b[0;36mspacy.matcher.matcher.Matcher.add\u001b[0;34m()\u001b[0m\n",
      "\u001b[0;31mMatchPatternError\u001b[0m: Invalid token patterns for matcher rule 'QBF'\n\nPattern 0:\n- [pattern -> 0 -> IS_TITLE] value is not a valid boolean\n- [pattern -> 3 -> IS_TITLE] value is not a valid boolean\n\nPattern 1:\n- [pattern -> 0 -> IS_TITLE] value is not a valid boolean\n- [pattern -> 1 -> IS_TITLE] value is not a valid boolean\n- [pattern -> 4 -> IS_TITLE] value is not a valid boolean\n\nPattern 2:\n- [pattern -> 0 -> IS_TITLE] value is not a valid boolean\n- [pattern -> 3 -> IS_TITLE] value is not a valid boolean\n- [pattern -> 4 -> IS_TITLE] value is not a valid boolean\n\nPattern 3:\n- [pattern -> 0 -> IS_TITLE] value is not a valid boolean\n- [pattern -> 1 -> IS_TITLE] value is not a valid boolean\n- [pattern -> 4 -> IS_TITLE] value is not a valid boolean\n- [pattern -> 5 -> IS_TITLE] value is not a valid boolean\n\nPattern 4:\n- [pattern -> 0 -> IS_TITLE] value is not a valid boolean\n- [pattern -> 1 -> IS_TITLE] value is not a valid boolean\n- [pattern -> 2 -> IS_TITLE] value is not a valid boolean\n- [pattern -> 5 -> IS_TITLE] value is not a valid boolean\n- [pattern -> 6 -> IS_TITLE] value is not a valid boolean\n- [pattern -> 7 -> IS_TITLE] value is not a valid boolean\n\nPattern 5:\n- [pattern -> 0 -> IS_TITLE] value is not a valid boolean\n- [pattern -> 1 -> IS_TITLE] value is not a valid boolean\n- [pattern -> 4 -> IS_TITLE] value is not a valid boolean\n- [pattern -> 5 -> IS_TITLE] value is not a valid boolean\n- [pattern -> 6 -> IS_TITLE] value is not a valid boolean\n\nPattern 6:\n- [pattern -> 0 -> IS_TITLE] value is not a valid boolean\n- [pattern -> 1 -> IS_TITLE] value is not a valid boolean\n- [pattern -> 4 -> IS_TITLE] value is not a valid boolean\n- [pattern -> 5 -> IS_TITLE] value is not a valid boolean\n- [pattern -> 6 -> IS_TITLE] value is not a valid boolean\n\nPattern 7:\n- [pattern -> 0 -> IS_TITLE] value is not a valid boolean\n- [pattern -> 3 -> IS_TITLE] value is not a valid boolean\n- [pattern -> 4 -> IS_TITLE] value is not a valid boolean\n- [pattern -> 5 -> IS_TITLE] value is not a valid boolean\n\nPattern 8:\n- [pattern -> 0 -> IS_TITLE] value is not a valid boolean\n- [pattern -> 1 -> IS_TITLE] value is not a valid boolean\n- [pattern -> 2 -> IS_TITLE] value is not a valid boolean\n- [pattern -> 5 -> IS_TITLE] value is not a valid boolean\n\nPattern 9:\n- [pattern -> 0 -> IS_TITLE] value is not a valid boolean\n- [pattern -> 1 -> IS_TITLE] value is not a valid boolean\n- [pattern -> 2 -> IS_TITLE] value is not a valid boolean\n- [pattern -> 5 -> IS_TITLE] value is not a valid boolean\n- [pattern -> 6 -> IS_TITLE] value is not a valid boolean\n\nPattern 10:\n- [pattern -> 0 -> label] extra fields not permitted\n\nPattern 11:\n- [pattern -> 0 -> label] extra fields not permitted\n- [pattern -> 1 -> label] extra fields not permitted\n\nPattern 12:\n- [pattern -> 0 -> label] extra fields not permitted\n- [pattern -> 1 -> label] extra fields not permitted\n\nPattern 13:\n- [pattern -> 0 -> label] extra fields not permitted\n- [pattern -> 1 -> label] extra fields not permitted\n- [pattern -> 2 -> label] extra fields not permitted\n- [pattern -> 3 -> label] extra fields not permitted\n"
     ]
    }
   ],
   "source": [
    "\n",
    "doc = nlp(doc)\n",
    "#print([(ent.text, ent.label_) for ent in doc.ents])\n",
    "\n",
    "m_tool.add('QBF',[p1, p2, p3, p4, p5, p6, p6, p7, p8, p9, p10, p11, p12, p13])\n",
    "\n",
    "phrase_matches = m_tool(doc)\n",
    "\n",
    "print(phrase_matches)\n"
   ]
  },
  {
   "cell_type": "code",
   "execution_count": 30,
   "id": "7c1b5164-e2b1-46ca-9908-f2307a1a5fbe",
   "metadata": {},
   "outputs": [],
   "source": []
  },
  {
   "cell_type": "code",
   "execution_count": null,
   "id": "e4559982-09dc-41b7-a036-d64dcb195eee",
   "metadata": {},
   "outputs": [],
   "source": []
  },
  {
   "cell_type": "code",
   "execution_count": null,
   "id": "6c6f5c01-3124-4572-a0cd-b25602835fdc",
   "metadata": {},
   "outputs": [],
   "source": []
  },
  {
   "cell_type": "code",
   "execution_count": null,
   "id": "4799edf0-f17c-4b35-9508-b523282cac35",
   "metadata": {},
   "outputs": [],
   "source": []
  },
  {
   "cell_type": "code",
   "execution_count": null,
   "id": "cb71d288-4e2e-4da9-b43e-4921d9cda6d4",
   "metadata": {},
   "outputs": [],
   "source": []
  },
  {
   "cell_type": "code",
   "execution_count": null,
   "id": "bd0f6006-6d0b-4d07-8823-bb59ea84d985",
   "metadata": {},
   "outputs": [],
   "source": []
  },
  {
   "cell_type": "code",
   "execution_count": null,
   "id": "6181ccd0-5dae-44c1-a57a-494fedfef545",
   "metadata": {},
   "outputs": [],
   "source": []
  },
  {
   "cell_type": "code",
   "execution_count": null,
   "id": "84749ec4-ecca-4e25-b4c0-5c3b267d595c",
   "metadata": {},
   "outputs": [],
   "source": []
  },
  {
   "cell_type": "code",
   "execution_count": null,
   "id": "58b87440-0f01-4ca3-8541-6889daf37745",
   "metadata": {},
   "outputs": [],
   "source": []
  },
  {
   "cell_type": "code",
   "execution_count": null,
   "id": "c46474bf-3012-49de-9272-601942f91fda",
   "metadata": {},
   "outputs": [],
   "source": []
  },
  {
   "cell_type": "code",
   "execution_count": null,
   "id": "90d566af-e979-465f-b076-8f4b3db84e6c",
   "metadata": {},
   "outputs": [],
   "source": []
  },
  {
   "cell_type": "code",
   "execution_count": null,
   "id": "2e9624ba-5a3e-4929-ad5a-94ddf4f530e4",
   "metadata": {},
   "outputs": [],
   "source": []
  }
 ],
 "metadata": {
  "environment": {
   "kernel": "python3",
   "name": "tf2-gpu.2-8.m95",
   "type": "gcloud",
   "uri": "gcr.io/deeplearning-platform-release/tf2-gpu.2-8:m95"
  },
  "kernelspec": {
   "display_name": "Python 3",
   "language": "python",
   "name": "python3"
  },
  "language_info": {
   "codemirror_mode": {
    "name": "ipython",
    "version": 3
   },
   "file_extension": ".py",
   "mimetype": "text/x-python",
   "name": "python",
   "nbconvert_exporter": "python",
   "pygments_lexer": "ipython3",
   "version": "3.7.12"
  }
 },
 "nbformat": 4,
 "nbformat_minor": 5
}
